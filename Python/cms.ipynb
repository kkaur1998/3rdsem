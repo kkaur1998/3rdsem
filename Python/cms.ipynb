{
 "cells": [
  {
   "cell_type": "code",
   "execution_count": 24,
   "id": "324c9857",
   "metadata": {},
   "outputs": [],
   "source": [
    "cust_list = {111:{\"name\":\"kamal\", \"age\": 24, \"mob\": \"9991307072\"},112:{\"name\":\"sandeep\", \"age\": 22, \"mob\": \"9578459384\"}}"
   ]
  },
  {
   "cell_type": "code",
   "execution_count": 27,
   "id": "7c3a9041",
   "metadata": {},
   "outputs": [
    {
     "name": "stdout",
     "output_type": "stream",
     "text": [
      "[1, 2, 3, 4]\n"
     ]
    }
   ],
   "source": [
    "l1 = [[1,2,3,4],[2,3,5,7]]\n",
    "k = l1[0]\n",
    "print(k)"
   ]
  },
  {
   "cell_type": "code",
   "execution_count": 29,
   "id": "14bbe5c0",
   "metadata": {},
   "outputs": [
    {
     "data": {
      "text/plain": [
       "3"
      ]
     },
     "execution_count": 29,
     "metadata": {},
     "output_type": "execute_result"
    }
   ],
   "source": [
    "l1[0][2]"
   ]
  },
  {
   "cell_type": "code",
   "execution_count": 3,
   "id": "7606e9da",
   "metadata": {},
   "outputs": [
    {
     "data": {
      "text/plain": [
       "{'name': 'kamal', 'age': 24, 'mob': '9991307072'}"
      ]
     },
     "execution_count": 3,
     "metadata": {},
     "output_type": "execute_result"
    }
   ],
   "source": [
    "cust_list[111]"
   ]
  },
  {
   "cell_type": "code",
   "execution_count": 30,
   "id": "21cfd9f6",
   "metadata": {},
   "outputs": [
    {
     "data": {
      "text/plain": [
       "'kamal'"
      ]
     },
     "execution_count": 30,
     "metadata": {},
     "output_type": "execute_result"
    }
   ],
   "source": [
    "cust_list[111]['name']"
   ]
  },
  {
   "cell_type": "code",
   "execution_count": 31,
   "id": "7c9f447c",
   "metadata": {},
   "outputs": [
    {
     "name": "stdout",
     "output_type": "stream",
     "text": [
      "enter namekamal\n",
      "enter age24\n",
      "enter mobiledjfiudhf\n"
     ]
    }
   ],
   "source": [
    "#forget class- just making a function to add values to cust_list\n",
    "#declaration\n",
    "#definition\n",
    "#calling\n",
    "# cust_list = {111:{\"name\":\"kamal\", \"age\": 24, \"mob\": \"9991307072\"},112:{\"name\":\"sandeep\", \"age\": 22, \"mob\": \"9578459384\"}}\n",
    "cust = {}\n",
    "def add_NewElement(name,age,mob):\n",
    "    cust['name'] = name\n",
    "    cust['age'] = age\n",
    "    cust['mob'] = mob\n",
    "\n",
    "name = input(\"enter name\")\n",
    "age = input('enter age')\n",
    "mob = input('enter mobile')\n",
    "add_NewElement(name,age,mob)"
   ]
  },
  {
   "cell_type": "code",
   "execution_count": 32,
   "id": "acfad811",
   "metadata": {},
   "outputs": [
    {
     "data": {
      "text/plain": [
       "{'name': 'kamal', 'age': '24', 'mob': 'djfiudhf'}"
      ]
     },
     "execution_count": 32,
     "metadata": {},
     "output_type": "execute_result"
    }
   ],
   "source": [
    "cust"
   ]
  },
  {
   "cell_type": "code",
   "execution_count": 36,
   "id": "c856eca2",
   "metadata": {},
   "outputs": [
    {
     "ename": "IndentationError",
     "evalue": "unindent does not match any outer indentation level (<tokenize>, line 10)",
     "output_type": "error",
     "traceback": [
      "\u001b[1;36m  File \u001b[1;32m\"<tokenize>\"\u001b[1;36m, line \u001b[1;32m10\u001b[0m\n\u001b[1;33m    cust['name'] = name\u001b[0m\n\u001b[1;37m    ^\u001b[0m\n\u001b[1;31mIndentationError\u001b[0m\u001b[1;31m:\u001b[0m unindent does not match any outer indentation level\n"
     ]
    }
   ],
   "source": [
    "#forget class- just making a function to add values to cust_list\n",
    "#declaration\n",
    "#definition\n",
    "#calling\n",
    "# cust_list = {111:{\"name\":\"kamal\", \"age\": 24, \"mob\": \"9991307072\"},112:{\"name\":\"sandeep\", \"age\": 22, \"mob\": \"9578459384\"}}\n",
    "cust_list = {}\n",
    "def add_NewElement(id,name,age,mob):\n",
    "    cust['id'] = {}\n",
    "    cust['name'] = name\n",
    "    cust['age'] = age\n",
    "    cust['mob'] = mob\n",
    "id = input(\"enter id\")\n",
    "name = input(\"enter name\")\n",
    "age = input('enter age')\n",
    "mob = input('enter mobile')\n",
    "add_NewElement(id,'name','mob','age')"
   ]
  },
  {
   "cell_type": "code",
   "execution_count": 42,
   "id": "87335cfb",
   "metadata": {},
   "outputs": [
    {
     "name": "stdout",
     "output_type": "stream",
     "text": [
      "enter id111\n",
      "enter namekamal\n",
      "{'111': {'name': 'kamal'}}\n",
      "{'111': {'name': 'kamal'}}\n"
     ]
    }
   ],
   "source": [
    "#forget function also\n",
    "# cust_list = {111:{\"name\":\"kamal\", \"age\": 24, \"mob\": \"9991307072\"},112:{\"name\":\"sandeep\", \"age\": 22, \"mob\": \"9578459384\"}}\n",
    "\n",
    "cust_list = {}\n",
    "\n",
    "id = input(\"enter id\")\n",
    "cust_list[id] = {}\n",
    "name = input(\"enter name\")\n",
    "cust_list[id]['name'] = name\n",
    "print(cust_list)\n",
    "# age = input('enter age')\n",
    "# mob = input('enter mobile')\n",
    "\n",
    "\n",
    "\n",
    "print(cust_list)\n",
    "\n",
    "# cust['age'] = age\n",
    "# cust['mob'] = mob\n"
   ]
  },
  {
   "cell_type": "code",
   "execution_count": 22,
   "id": "65110c55",
   "metadata": {},
   "outputs": [],
   "source": [
    "dict = {\"name\" : \"kamal\", \"age\" : 24,\"name\":\"kiran\"}"
   ]
  },
  {
   "cell_type": "code",
   "execution_count": 23,
   "id": "8fe1e8f0",
   "metadata": {},
   "outputs": [
    {
     "data": {
      "text/plain": [
       "{'name': 'kiran', 'age': 24}"
      ]
     },
     "execution_count": 23,
     "metadata": {},
     "output_type": "execute_result"
    }
   ],
   "source": [
    "dict"
   ]
  },
  {
   "cell_type": "code",
   "execution_count": 8,
   "id": "9be8b600",
   "metadata": {},
   "outputs": [
    {
     "data": {
      "text/plain": [
       "'kamal'"
      ]
     },
     "execution_count": 8,
     "metadata": {},
     "output_type": "execute_result"
    }
   ],
   "source": [
    "cust_list[111]['name']"
   ]
  },
  {
   "cell_type": "code",
   "execution_count": 14,
   "id": "500174f0",
   "metadata": {},
   "outputs": [
    {
     "name": "stdout",
     "output_type": "stream",
     "text": [
      "11\n",
      "kk 0 3748365\n",
      "kk 0 3748365\n"
     ]
    }
   ],
   "source": [
    "class Student:\n",
    "    def __init__(self):\n",
    "        self.name = \"kk\"\n",
    "        self.age = 0\n",
    "        self.mob = \"3748365\"\n",
    "    def add(self,a,b):\n",
    "        return a+b\n",
    "        \n",
    "    \n",
    "    \n",
    "    \n",
    "c1 = Student()\n",
    "c2 = Student()\n",
    "print(c1.add(5,6))\n",
    "print(c1.name, c1.age, c1.mob)\n",
    "print(c2.name, c2.age, c2.mob)"
   ]
  },
  {
   "cell_type": "code",
   "execution_count": null,
   "id": "a1da1971",
   "metadata": {},
   "outputs": [],
   "source": []
  },
  {
   "cell_type": "code",
   "execution_count": null,
   "id": "bd4d192c",
   "metadata": {},
   "outputs": [],
   "source": [
    "cust_list = {}\n",
    "class Customer:\n",
    "    def __init__(self):\n",
    "        self.id = \"\"\n",
    "        self.name = \"kk\"\n",
    "        self.age = 0\n",
    "        self.mob = \"3748365\"\n",
    "    def add_customer(self):\n",
    "        global cust_list\n",
    "        cust_list[self.id] = {}\n",
    "        cust_list[self.id][\"name\"] = self.name\n",
    "        cust_list[self.id][\"age\"] = self.age\n",
    "        cust_list[self.id][\"mob\"] = self.mob\n",
    "        \n",
    "    \n",
    "    \n",
    "    \n",
    "choice = int(input(\"enter 1 to add customer\\n enter 2 to exit\"))\n",
    "c1 = Customer()\n",
    "while(1):\n",
    "    if(choice==1):\n",
    "        c1.id = input(\"enter id of customer\")\n",
    "        c1.name = input(\"enter the name\")\n",
    "        c1.age = int(input(\"enter age\"))\n",
    "        c1.mob = input(\"enter mobile numbr\")\n",
    "        c1.add_customer()\n",
    "    elif(choice==2):\n",
    "        break"
   ]
  }
 ],
 "metadata": {
  "kernelspec": {
   "display_name": "Python 3",
   "language": "python",
   "name": "python3"
  },
  "language_info": {
   "codemirror_mode": {
    "name": "ipython",
    "version": 3
   },
   "file_extension": ".py",
   "mimetype": "text/x-python",
   "name": "python",
   "nbconvert_exporter": "python",
   "pygments_lexer": "ipython3",
   "version": "3.8.8"
  }
 },
 "nbformat": 4,
 "nbformat_minor": 5
}

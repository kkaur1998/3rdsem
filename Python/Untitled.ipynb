{
 "cells": [
  {
   "cell_type": "code",
   "execution_count": 7,
   "id": "bee30837",
   "metadata": {},
   "outputs": [
    {
     "name": "stdout",
     "output_type": "stream",
     "text": [
      "enter no. of students5\n",
      "enter registration number1\n",
      "enter marks of student23\n",
      "enter registration number2\n",
      "enter marks of student56\n",
      "enter registration number3\n",
      "enter marks of student68\n",
      "enter registration number5\n",
      "enter marks of student98\n",
      "enter registration number6\n",
      "enter marks of student91\n",
      "['1', '2', '3', '5', '6'] [23, 56, 68, 98, 91]\n"
     ]
    }
   ],
   "source": [
    "n = int(input(\"enter no. of students\"))\n",
    "reg_list = []\n",
    "marks_list = []\n",
    "\n",
    "for i in range(n):\n",
    "    regno = input(\"enter registration number\")\n",
    "    marks = int(input(\"enter marks of student\"))\n",
    "    reg_list.append(regno)\n",
    "    marks_list.append(marks)\n"
   ]
  },
  {
   "cell_type": "code",
   "execution_count": 10,
   "id": "3178f3e7",
   "metadata": {},
   "outputs": [
    {
     "name": "stdout",
     "output_type": "stream",
     "text": [
      "1  :  FAIL\n",
      "2  :  B\n",
      "3  :  B+\n",
      "5  :  O\n",
      "6  :  O\n"
     ]
    }
   ],
   "source": [
    "for i in range(n):\n",
    "    temp = marks_list[i]\n",
    "    if(temp>=90 and temp<=100):\n",
    "        print(reg_list[i], \" : \", 'O')\n",
    "    elif(temp>=80 and temp<90):\n",
    "        print(reg_list[i], \" : \", 'A+')\n",
    "    elif(temp>=70 and temp<80):\n",
    "        print(reg_list[i], \" : \", 'A')\n",
    "    elif(temp>=60 and temp<70):\n",
    "        print(reg_list[i], \" : \", 'B+')\n",
    "    elif(temp>=50 and temp<60):\n",
    "        print(reg_list[i], \" : \", 'B')\n",
    "    elif(temp>=33 and temp<50):\n",
    "        print(reg_list[i], \" : \", 'PASS')\n",
    "    elif(temp>=0 and temp<33):\n",
    "        print(reg_list[i], \" : \", 'FAIL')\n",
    "    else:\n",
    "        print(\"marks should be between 0-100 only\")\n",
    "    "
   ]
  },
  {
   "cell_type": "code",
   "execution_count": 11,
   "id": "8aa67e4e",
   "metadata": {},
   "outputs": [],
   "source": []
  },
  {
   "cell_type": "code",
   "execution_count": 68,
   "id": "a392817b",
   "metadata": {},
   "outputs": [
    {
     "name": "stdout",
     "output_type": "stream",
     "text": [
      "this is list of lists [[2, 3, 4], [3, 4, 2], [4, 2, 3]]\n",
      "[2, 3, 4]\n",
      "[3, 4, 2]\n",
      "[4, 2, 3]\n",
      "[3, 4, 2]\n",
      "[4, 2, 3]\n",
      "[2, 3, 4]\n",
      "[4, 2, 3]\n",
      "[2, 3, 4]\n",
      "[3, 4, 2]\n",
      "[[2, 3, 4], [3, 4, 2], [4, 2, 3], [3, 4, 2], [4, 2, 3]]\n",
      "[[2, 3, 4], [3, 4, 2], [4, 2, 3]]\n"
     ]
    }
   ],
   "source": [
    "l1 = [2,3,4]\n",
    "l2 = l1[::-1]\n",
    "list_list = []\n",
    "perm_list = []\n",
    "for i in range(len(l1)):\n",
    "    list_list.append(l1[i::]+l1[:i:])\n",
    "print(\"this is list of lists\", list_list)\n",
    "for i in list_list:\n",
    "    perm_list.append(i)\n",
    "    for j in range(len(i)):\n",
    "        k = i[j::]+i[:j:]\n",
    "        print(k)\n",
    "        if(k not in perm_list):\n",
    "            perm_list.append(k)\n",
    "print(perm_list)\n",
    "print(list_list)"
   ]
  },
  {
   "cell_type": "code",
   "execution_count": null,
   "id": "1176bb3c",
   "metadata": {},
   "outputs": [],
   "source": [
    "def permutations(iterable, r=None):\n",
    "    pool = tuple(iterable)\n",
    "    n = len(pool)\n",
    "    r = n if r is None else r\n",
    "    for indices in product(range(n), repeat=r):\n",
    "        if len(set(indices)) == r:\n",
    "            yield tuple(pool[i] for i in indices)"
   ]
  },
  {
   "cell_type": "code",
   "execution_count": null,
   "id": "0a32eb47",
   "metadata": {},
   "outputs": [],
   "source": [
    "2,3,4\n",
    "3,4,2\n",
    "2,4,3\n",
    "4,3,2\n",
    "3,2,4\n",
    "4,2,3\n"
   ]
  },
  {
   "cell_type": "code",
   "execution_count": null,
   "id": "7477e85a",
   "metadata": {},
   "outputs": [],
   "source": [
    "l2 = [3,4,5,6]\n",
    "for i in range(len(l2)):\n",
    "    l2"
   ]
  },
  {
   "cell_type": "code",
   "execution_count": 55,
   "id": "c1e3da1c",
   "metadata": {},
   "outputs": [
    {
     "data": {
      "text/plain": [
       "[[2, 3, 4], [3, 4, 2], [4, 2, 3], [3, 4, 2], [4, 2, 3]]"
      ]
     },
     "execution_count": 55,
     "metadata": {},
     "output_type": "execute_result"
    }
   ],
   "source": [
    "perm_list"
   ]
  },
  {
   "cell_type": "code",
   "execution_count": 53,
   "id": "119298e8",
   "metadata": {},
   "outputs": [
    {
     "data": {
      "text/plain": [
       "[[2, 3, 4], [3, 4, 2], [4, 2, 3]]"
      ]
     },
     "execution_count": 53,
     "metadata": {},
     "output_type": "execute_result"
    }
   ],
   "source": [
    "list_list"
   ]
  },
  {
   "cell_type": "code",
   "execution_count": null,
   "id": "1d57ef85",
   "metadata": {},
   "outputs": [],
   "source": []
  },
  {
   "cell_type": "code",
   "execution_count": 69,
   "id": "7c446b5e",
   "metadata": {},
   "outputs": [
    {
     "name": "stdout",
     "output_type": "stream",
     "text": [
      "enter no. of mobiles purchased by customer: 5\n",
      "brand of mobile: samsung\n",
      "total price of the items:  127000\n",
      "{'samsung': 34, 'redmi': 19, 'lenovo': 20}\n"
     ]
    }
   ],
   "source": [
    "price_detail = {\"samsung\": 25400, \"redmi\": 10000, \"lenovo\": 8000}\n",
    "mobile_quantity = {\"samsung\": 39, \"redmi\": 19, \"lenovo\": 20}\n",
    "quantity = int(input(\"enter no. of mobiles purchased by customer: \"))\n",
    "brand = input(\"brand of mobile: \")\n",
    "total_price = quantity * price_detail[brand]\n",
    "print(\"total price of the items: \",total_price)\n",
    "mobile_quantity[brand] = mobile_quantity[brand]-quantity\n",
    "print(mobile_quantity)"
   ]
  },
  {
   "cell_type": "code",
   "execution_count": 64,
   "id": "7ba1c858",
   "metadata": {},
   "outputs": [],
   "source": []
  },
  {
   "cell_type": "code",
   "execution_count": 1,
   "id": "301dd3e7",
   "metadata": {},
   "outputs": [],
   "source": [
    "v1 = [1,2,3,4,5]\n",
    "v2 = [2,3,4,7,8]"
   ]
  },
  {
   "cell_type": "code",
   "execution_count": 8,
   "id": "442c1984",
   "metadata": {},
   "outputs": [
    {
     "name": "stdout",
     "output_type": "stream",
     "text": [
      "(2, 3, 4, 7, 8)\n",
      "(2, 3, 4, 8, 7)\n",
      "(2, 3, 7, 4, 8)\n",
      "(2, 3, 7, 8, 4)\n",
      "(2, 3, 8, 4, 7)\n",
      "(2, 3, 8, 7, 4)\n",
      "(2, 4, 3, 7, 8)\n",
      "(2, 4, 3, 8, 7)\n",
      "(2, 4, 7, 3, 8)\n",
      "(2, 4, 7, 8, 3)\n",
      "(2, 4, 8, 3, 7)\n",
      "(2, 4, 8, 7, 3)\n",
      "(2, 7, 3, 4, 8)\n",
      "(2, 7, 3, 8, 4)\n",
      "(2, 7, 4, 3, 8)\n",
      "(2, 7, 4, 8, 3)\n",
      "(2, 7, 8, 3, 4)\n",
      "(2, 7, 8, 4, 3)\n",
      "(2, 8, 3, 4, 7)\n",
      "(2, 8, 3, 7, 4)\n",
      "(2, 8, 4, 3, 7)\n",
      "(2, 8, 4, 7, 3)\n",
      "(2, 8, 7, 3, 4)\n",
      "(2, 8, 7, 4, 3)\n",
      "(3, 2, 4, 7, 8)\n",
      "(3, 2, 4, 8, 7)\n",
      "(3, 2, 7, 4, 8)\n",
      "(3, 2, 7, 8, 4)\n",
      "(3, 2, 8, 4, 7)\n",
      "(3, 2, 8, 7, 4)\n",
      "(3, 4, 2, 7, 8)\n",
      "(3, 4, 2, 8, 7)\n",
      "(3, 4, 7, 2, 8)\n",
      "(3, 4, 7, 8, 2)\n",
      "(3, 4, 8, 2, 7)\n",
      "(3, 4, 8, 7, 2)\n",
      "(3, 7, 2, 4, 8)\n",
      "(3, 7, 2, 8, 4)\n",
      "(3, 7, 4, 2, 8)\n",
      "(3, 7, 4, 8, 2)\n",
      "(3, 7, 8, 2, 4)\n",
      "(3, 7, 8, 4, 2)\n",
      "(3, 8, 2, 4, 7)\n",
      "(3, 8, 2, 7, 4)\n",
      "(3, 8, 4, 2, 7)\n",
      "(3, 8, 4, 7, 2)\n",
      "(3, 8, 7, 2, 4)\n",
      "(3, 8, 7, 4, 2)\n",
      "(4, 2, 3, 7, 8)\n",
      "(4, 2, 3, 8, 7)\n",
      "(4, 2, 7, 3, 8)\n",
      "(4, 2, 7, 8, 3)\n",
      "(4, 2, 8, 3, 7)\n",
      "(4, 2, 8, 7, 3)\n",
      "(4, 3, 2, 7, 8)\n",
      "(4, 3, 2, 8, 7)\n",
      "(4, 3, 7, 2, 8)\n",
      "(4, 3, 7, 8, 2)\n",
      "(4, 3, 8, 2, 7)\n",
      "(4, 3, 8, 7, 2)\n",
      "(4, 7, 2, 3, 8)\n",
      "(4, 7, 2, 8, 3)\n",
      "(4, 7, 3, 2, 8)\n",
      "(4, 7, 3, 8, 2)\n",
      "(4, 7, 8, 2, 3)\n",
      "(4, 7, 8, 3, 2)\n",
      "(4, 8, 2, 3, 7)\n",
      "(4, 8, 2, 7, 3)\n",
      "(4, 8, 3, 2, 7)\n",
      "(4, 8, 3, 7, 2)\n",
      "(4, 8, 7, 2, 3)\n",
      "(4, 8, 7, 3, 2)\n",
      "(7, 2, 3, 4, 8)\n",
      "(7, 2, 3, 8, 4)\n",
      "(7, 2, 4, 3, 8)\n",
      "(7, 2, 4, 8, 3)\n",
      "(7, 2, 8, 3, 4)\n",
      "(7, 2, 8, 4, 3)\n",
      "(7, 3, 2, 4, 8)\n",
      "(7, 3, 2, 8, 4)\n",
      "(7, 3, 4, 2, 8)\n",
      "(7, 3, 4, 8, 2)\n",
      "(7, 3, 8, 2, 4)\n",
      "(7, 3, 8, 4, 2)\n",
      "(7, 4, 2, 3, 8)\n",
      "(7, 4, 2, 8, 3)\n",
      "(7, 4, 3, 2, 8)\n",
      "(7, 4, 3, 8, 2)\n",
      "(7, 4, 8, 2, 3)\n",
      "(7, 4, 8, 3, 2)\n",
      "(7, 8, 2, 3, 4)\n",
      "(7, 8, 2, 4, 3)\n",
      "(7, 8, 3, 2, 4)\n",
      "(7, 8, 3, 4, 2)\n",
      "(7, 8, 4, 2, 3)\n",
      "(7, 8, 4, 3, 2)\n",
      "(8, 2, 3, 4, 7)\n",
      "(8, 2, 3, 7, 4)\n",
      "(8, 2, 4, 3, 7)\n",
      "(8, 2, 4, 7, 3)\n",
      "(8, 2, 7, 3, 4)\n",
      "(8, 2, 7, 4, 3)\n",
      "(8, 3, 2, 4, 7)\n",
      "(8, 3, 2, 7, 4)\n",
      "(8, 3, 4, 2, 7)\n",
      "(8, 3, 4, 7, 2)\n",
      "(8, 3, 7, 2, 4)\n",
      "(8, 3, 7, 4, 2)\n",
      "(8, 4, 2, 3, 7)\n",
      "(8, 4, 2, 7, 3)\n",
      "(8, 4, 3, 2, 7)\n",
      "(8, 4, 3, 7, 2)\n",
      "(8, 4, 7, 2, 3)\n",
      "(8, 4, 7, 3, 2)\n",
      "(8, 7, 2, 3, 4)\n",
      "(8, 7, 2, 4, 3)\n",
      "(8, 7, 3, 2, 4)\n",
      "(8, 7, 3, 4, 2)\n",
      "(8, 7, 4, 2, 3)\n",
      "(8, 7, 4, 3, 2)\n"
     ]
    }
   ],
   "source": [
    "import itertools\n",
    "klist = list(itertools.permutations(v2))\n",
    "kvlist = list(itertools.permutations(v1))\n",
    "sum_list = []\n",
    "for v3 in klist:\n",
    "    print(v3)\n",
    "    sum=0\n",
    "    for j in range(len(v1)):\n",
    "        sum += (v1[j]*v3[j])\n",
    "    sum_list.append(sum)\n",
    "    "
   ]
  },
  {
   "cell_type": "code",
   "execution_count": 7,
   "id": "4e3542d4",
   "metadata": {
    "scrolled": true
   },
   "outputs": [
    {
     "data": {
      "text/plain": [
       "88"
      ]
     },
     "execution_count": 7,
     "metadata": {},
     "output_type": "execute_result"
    }
   ],
   "source": [
    "max(sum_list)"
   ]
  },
  {
   "cell_type": "code",
   "execution_count": null,
   "id": "33432253",
   "metadata": {},
   "outputs": [],
   "source": []
  },
  {
   "cell_type": "code",
   "execution_count": null,
   "id": "4d79d0e6",
   "metadata": {},
   "outputs": [],
   "source": []
  },
  {
   "cell_type": "code",
   "execution_count": null,
   "id": "e6814ea6",
   "metadata": {},
   "outputs": [],
   "source": []
  },
  {
   "cell_type": "code",
   "execution_count": null,
   "id": "09238170",
   "metadata": {},
   "outputs": [],
   "source": [
    "def permutations(iterable, r=None):\n",
    "    # permutations('ABCD', 2) --> AB AC AD BA BC BD CA CB CD DA DB DC\n",
    "    # permutations(range(3)) --> 012 021 102 120 201 210\n",
    "    pool = tuple(iterable)\n",
    "    n = len(pool)\n",
    "    r = n if r is None else r\n",
    "    if r > n:\n",
    "        return\n",
    "    indices = list(range(n))\n",
    "    cycles = list(range(n, n-r, -1))\n",
    "    yield tuple(pool[i] for i in indices[:r])\n",
    "    while n:\n",
    "        for i in reversed(range(r)):\n",
    "            cycles[i] -= 1\n",
    "            if cycles[i] == 0:\n",
    "                indices[i:] = indices[i+1:] + indices[i:i+1]\n",
    "                cycles[i] = n - i\n",
    "            else:\n",
    "                j = cycles[i]\n",
    "                indices[i], indices[-j] = indices[-j], indices[i]\n",
    "                yield tuple(pool[i] for i in indices[:r])\n",
    "                break\n",
    "        else:\n",
    "            return"
   ]
  },
  {
   "cell_type": "code",
   "execution_count": 10,
   "id": "85122e81",
   "metadata": {},
   "outputs": [
    {
     "data": {
      "text/plain": [
       "'nm2lg2k222kkk'"
      ]
     },
     "execution_count": 10,
     "metadata": {},
     "output_type": "execute_result"
    }
   ],
   "source": [
    "'kkk222k2gl2mn'[::-1]"
   ]
  },
  {
   "cell_type": "code",
   "execution_count": 41,
   "id": "849977ba",
   "metadata": {},
   "outputs": [],
   "source": [
    "s = '$ai!!jt#l#n@2'\n",
    "s2 = ''\n",
    "s3 = ''\n",
    "for i in s:\n",
    "    if(i.isalnum()):\n",
    "        s2+=i\n",
    "        s3+=i\n",
    "    else:\n",
    "        s2+=' '"
   ]
  },
  {
   "cell_type": "code",
   "execution_count": 42,
   "id": "11ff622b",
   "metadata": {},
   "outputs": [
    {
     "name": "stdout",
     "output_type": "stream",
     "text": [
      " ai  jt l n 2\n",
      "aijtln2\n"
     ]
    }
   ],
   "source": [
    "print(s2)\n",
    "print(s3)"
   ]
  },
  {
   "cell_type": "code",
   "execution_count": 44,
   "id": "17953c41",
   "metadata": {},
   "outputs": [
    {
     "name": "stdout",
     "output_type": "stream",
     "text": [
      "2nltjia\n"
     ]
    }
   ],
   "source": [
    "s4 = s3[::-1]\n",
    "print(s4)\n"
   ]
  },
  {
   "cell_type": "code",
   "execution_count": 52,
   "id": "368c02a8",
   "metadata": {},
   "outputs": [
    {
     "name": "stdout",
     "output_type": "stream",
     "text": [
      " ai  jt l n 2\n"
     ]
    }
   ],
   "source": [
    "\n",
    "s5 = ''\n",
    "print(s2)"
   ]
  },
  {
   "cell_type": "code",
   "execution_count": 53,
   "id": "0b4badba",
   "metadata": {},
   "outputs": [],
   "source": [
    "x= 0\n",
    "for i in range(len(s)):\n",
    "    if(s2[i]==' '):\n",
    "        s5+=s[i]\n",
    "    else:\n",
    "        s5+=s4[x]\n",
    "        x+=1\n",
    "        \n",
    "        "
   ]
  },
  {
   "cell_type": "code",
   "execution_count": 54,
   "id": "15c61b73",
   "metadata": {},
   "outputs": [
    {
     "data": {
      "text/plain": [
       "'$2n!!lt#j#i@a'"
      ]
     },
     "execution_count": 54,
     "metadata": {},
     "output_type": "execute_result"
    }
   ],
   "source": [
    "s5"
   ]
  }
 ],
 "metadata": {
  "kernelspec": {
   "display_name": "Python 3",
   "language": "python",
   "name": "python3"
  },
  "language_info": {
   "codemirror_mode": {
    "name": "ipython",
    "version": 3
   },
   "file_extension": ".py",
   "mimetype": "text/x-python",
   "name": "python",
   "nbconvert_exporter": "python",
   "pygments_lexer": "ipython3",
   "version": "3.8.8"
  }
 },
 "nbformat": 4,
 "nbformat_minor": 5
}

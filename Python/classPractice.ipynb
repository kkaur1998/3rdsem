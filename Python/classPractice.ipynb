{
 "cells": [
  {
   "cell_type": "code",
   "execution_count": 43,
   "id": "39a847c1",
   "metadata": {},
   "outputs": [
    {
     "name": "stdout",
     "output_type": "stream",
     "text": [
      "enter the number53\n",
      "[3, 5, 7, 9, 11, 13, 15, 17, 19, 21, 23, 25, 27, 29, 31, 33, 35, 37, 39, 41, 43, 45, 47, 49, 51]\n"
     ]
    }
   ],
   "source": [
    "number = input(\"enter the number\")\n",
    "list1 = []\n",
    "if(number.isdigit):\n",
    "    number = int(number)\n",
    "    for i in range(2,number):\n",
    "        for j in range(2,i):\n",
    "            if(i%j == 0):\n",
    "                break\n",
    "            else:\n",
    "                if(i not in list1):\n",
    "                    list1.append(i)\n",
    "print(list1)"
   ]
  },
  {
   "cell_type": "code",
   "execution_count": 45,
   "id": "f32bf13d",
   "metadata": {},
   "outputs": [
    {
     "name": "stdout",
     "output_type": "stream",
     "text": [
      "45\n",
      "[2, 3, 5, 7, 11, 13, 17, 19, 23, 29, 31, 37, 41, 43]\n"
     ]
    }
   ],
   "source": [
    "number = int(input())\n",
    "prime_list = []\n",
    "flag = 0\n",
    "#range(2,number+1) = [2,3,4,4--------17]\n",
    "#n = 2 -3 4 5 ------17\n",
    "for n in range(2,number+1):\n",
    "    #if n is prime or not till the last tlint\n",
    "    for i in range(2,n):\n",
    "        if(n%i==0):\n",
    "            break\n",
    "    else:\n",
    "#             if(n not in prime_list):\n",
    "        prime_list.append(n)\n",
    "    #till here check if given number is prime or not\n",
    "\n",
    "\n",
    "print(prime_list)"
   ]
  },
  {
   "cell_type": "code",
   "execution_count": 46,
   "id": "32cbd62e",
   "metadata": {
    "scrolled": true
   },
   "outputs": [
    {
     "name": "stdout",
     "output_type": "stream",
     "text": [
      "5 5 5 5 5 4 4 4 4\n"
     ]
    }
   ],
   "source": [
    "l1  = list(input().split())"
   ]
  },
  {
   "cell_type": "code",
   "execution_count": 49,
   "id": "496eb665",
   "metadata": {},
   "outputs": [
    {
     "name": "stdout",
     "output_type": "stream",
     "text": [
      "count of 5: 5\n",
      "count of 4: 4\n"
     ]
    }
   ],
   "source": [
    "l2 = []\n",
    "for i in l1:\n",
    "    for j in l2:\n",
    "        if(i == j):\n",
    "            break\n",
    "    else:\n",
    "        l2.append(i)\n",
    "        print(f\"count of {i}:\" ,l1.count(i))"
   ]
  }
 ],
 "metadata": {
  "kernelspec": {
   "display_name": "Python 3",
   "language": "python",
   "name": "python3"
  },
  "language_info": {
   "codemirror_mode": {
    "name": "ipython",
    "version": 3
   },
   "file_extension": ".py",
   "mimetype": "text/x-python",
   "name": "python",
   "nbconvert_exporter": "python",
   "pygments_lexer": "ipython3",
   "version": "3.8.8"
  }
 },
 "nbformat": 4,
 "nbformat_minor": 5
}

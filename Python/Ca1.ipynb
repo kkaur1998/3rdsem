{
 "cells": [
  {
   "cell_type": "code",
   "execution_count": 74,
   "id": "b9f8ae4f",
   "metadata": {},
   "outputs": [],
   "source": []
  },
  {
   "cell_type": "code",
   "execution_count": 77,
   "id": "8dd5023b",
   "metadata": {},
   "outputs": [
    {
     "name": "stdout",
     "output_type": "stream",
     "text": [
      "Net salary of employees:  {'1234': 103500.0, '2345': 80000, '3456': 24000, '4567': 30000}\n"
     ]
    }
   ],
   "source": [
    "personal_details= {'1234': {\"name\":\"kamal\",\"age\":24}, '2345': {\"name\":\"Bubby\",\"age\":23}, '3456': {\"name\":\"Param\",\"age\":20}, '4567': {\"name\":\"Sandeep\",\"age\":22}}\n",
    "professional_details= {'1234': {\"designation\":\"manager\",\"salary\":90000}, '2345': {\"designation\":\"lead\",\"salary\":80000}, '3456': {\"designation\":\"associate\",\"salary\":24000}, '4567': {\"designation\":\"operator\",\"salary\":30000}}\n",
    "leave_balance = {'1234': 12, '2345': 10, '3456': 3, '4567': 2}\n",
    "leaves_taken = {'1234': 5, '2345': 7, '3456': 3, '4567': 2}\n",
    "net_salary = {}\n",
    "for id in personal_details.keys():\n",
    "    bonus = 0\n",
    "    salary = professional_details[id]['salary']\n",
    "    if(leaves_taken[id] <= leave_balance[id]):\n",
    "        if(salary>5000):\n",
    "            bonus = (15/100)*salary\n",
    "            net_salary[id] = bonus+salary\n",
    "        elif(salary>=4000 and salary<50000):\n",
    "            bonus = (10/100)*salary\n",
    "            net_salary[id] = bonus+salary\n",
    "        elif(salary>= 50000):\n",
    "            bonus = salary *0.05\n",
    "            net_salary[id] = bonus+salary\n",
    "    else:\n",
    "        net_salary[id]= salary\n",
    "\n",
    "    leave_balance[id] -= leaves_taken[id]\n",
    "\n",
    "\n",
    "print(\"Net salary of employees: \", net_salary)"
   ]
  },
  {
   "cell_type": "code",
   "execution_count": 76,
   "id": "4fe5d08f",
   "metadata": {},
   "outputs": [
    {
     "data": {
      "text/plain": [
       "{'1234': 103500.0, '2345': 92000.0, '3456': 27600.0, '4567': 34500.0}"
      ]
     },
     "execution_count": 76,
     "metadata": {},
     "output_type": "execute_result"
    }
   ],
   "source": []
  },
  {
   "cell_type": "code",
   "execution_count": 59,
   "id": "6d1508aa",
   "metadata": {},
   "outputs": [],
   "source": []
  },
  {
   "cell_type": "code",
   "execution_count": 60,
   "id": "3d2e600b",
   "metadata": {},
   "outputs": [
    {
     "name": "stdout",
     "output_type": "stream",
     "text": [
      "enter id of employee1234\n",
      "enter leaves taken by the employee5\n"
     ]
    }
   ],
   "source": [
    "id = input(\"enter id of employee\")\n",
    "leaves_taken = int(input(\"enter leaves taken by the employee\"))\n",
    "\n"
   ]
  },
  {
   "cell_type": "code",
   "execution_count": 61,
   "id": "3f938bdd",
   "metadata": {},
   "outputs": [
    {
     "name": "stdout",
     "output_type": "stream",
     "text": [
      "5 12\n"
     ]
    }
   ],
   "source": []
  },
  {
   "cell_type": "code",
   "execution_count": 62,
   "id": "5f7476f1",
   "metadata": {},
   "outputs": [
    {
     "data": {
      "text/plain": [
       "{'1234': 103500.0}"
      ]
     },
     "execution_count": 62,
     "metadata": {},
     "output_type": "execute_result"
    }
   ],
   "source": [
    "# net_salary['1234']= 20000\n",
    "net_salary"
   ]
  },
  {
   "cell_type": "code",
   "execution_count": 24,
   "id": "02fa89b7",
   "metadata": {},
   "outputs": [
    {
     "data": {
      "text/plain": [
       "90000"
      ]
     },
     "execution_count": 24,
     "metadata": {},
     "output_type": "execute_result"
    }
   ],
   "source": [
    "salary"
   ]
  },
  {
   "cell_type": "code",
   "execution_count": 36,
   "id": "5212a450",
   "metadata": {},
   "outputs": [
    {
     "data": {
      "text/plain": [
       "{'1234': 0, '2345': 10, '3456': 3, '4567': 2}"
      ]
     },
     "execution_count": 36,
     "metadata": {},
     "output_type": "execute_result"
    }
   ],
   "source": [
    "leave_balance"
   ]
  }
 ],
 "metadata": {
  "kernelspec": {
   "display_name": "Python 3",
   "language": "python",
   "name": "python3"
  },
  "language_info": {
   "codemirror_mode": {
    "name": "ipython",
    "version": 3
   },
   "file_extension": ".py",
   "mimetype": "text/x-python",
   "name": "python",
   "nbconvert_exporter": "python",
   "pygments_lexer": "ipython3",
   "version": "3.8.8"
  }
 },
 "nbformat": 4,
 "nbformat_minor": 5
}

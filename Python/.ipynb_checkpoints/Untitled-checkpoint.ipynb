{
 "cells": [
  {
   "cell_type": "code",
   "execution_count": 7,
   "id": "bee30837",
   "metadata": {},
   "outputs": [
    {
     "name": "stdout",
     "output_type": "stream",
     "text": [
      "enter no. of students5\n",
      "enter registration number1\n",
      "enter marks of student23\n",
      "enter registration number2\n",
      "enter marks of student56\n",
      "enter registration number3\n",
      "enter marks of student68\n",
      "enter registration number5\n",
      "enter marks of student98\n",
      "enter registration number6\n",
      "enter marks of student91\n",
      "['1', '2', '3', '5', '6'] [23, 56, 68, 98, 91]\n"
     ]
    }
   ],
   "source": [
    "n = int(input(\"enter no. of students\"))\n",
    "reg_list = []\n",
    "marks_list = []\n",
    "\n",
    "for i in range(n):\n",
    "    regno = input(\"enter registration number\")\n",
    "    marks = int(input(\"enter marks of student\"))\n",
    "    reg_list.append(regno)\n",
    "    marks_list.append(marks)\n"
   ]
  },
  {
   "cell_type": "code",
   "execution_count": 10,
   "id": "3178f3e7",
   "metadata": {},
   "outputs": [
    {
     "name": "stdout",
     "output_type": "stream",
     "text": [
      "1  :  FAIL\n",
      "2  :  B\n",
      "3  :  B+\n",
      "5  :  O\n",
      "6  :  O\n"
     ]
    }
   ],
   "source": [
    "for i in range(n):\n",
    "    temp = marks_list[i]\n",
    "    if(temp>=90 and temp<=100):\n",
    "        print(reg_list[i], \" : \", 'O')\n",
    "    elif(temp>=80 and temp<90):\n",
    "        print(reg_list[i], \" : \", 'A+')\n",
    "    elif(temp>=70 and temp<80):\n",
    "        print(reg_list[i], \" : \", 'A')\n",
    "    elif(temp>=60 and temp<70):\n",
    "        print(reg_list[i], \" : \", 'B+')\n",
    "    elif(temp>=50 and temp<60):\n",
    "        print(reg_list[i], \" : \", 'B')\n",
    "    elif(temp>=33 and temp<50):\n",
    "        print(reg_list[i], \" : \", 'PASS')\n",
    "    elif(temp>=0 and temp<33):\n",
    "        print(reg_list[i], \" : \", 'FAIL')\n",
    "    else:\n",
    "        print(\"marks should be between 0-100 only\")\n",
    "    "
   ]
  },
  {
   "cell_type": "code",
   "execution_count": 11,
   "id": "8aa67e4e",
   "metadata": {},
   "outputs": [],
   "source": []
  },
  {
   "cell_type": "code",
   "execution_count": 68,
   "id": "a392817b",
   "metadata": {},
   "outputs": [
    {
     "name": "stdout",
     "output_type": "stream",
     "text": [
      "this is list of lists [[2, 3, 4], [3, 4, 2], [4, 2, 3]]\n",
      "[2, 3, 4]\n",
      "[3, 4, 2]\n",
      "[4, 2, 3]\n",
      "[3, 4, 2]\n",
      "[4, 2, 3]\n",
      "[2, 3, 4]\n",
      "[4, 2, 3]\n",
      "[2, 3, 4]\n",
      "[3, 4, 2]\n",
      "[[2, 3, 4], [3, 4, 2], [4, 2, 3], [3, 4, 2], [4, 2, 3]]\n",
      "[[2, 3, 4], [3, 4, 2], [4, 2, 3]]\n"
     ]
    }
   ],
   "source": [
    "l1 = [2,3,4]\n",
    "l2 = l1[::-1]\n",
    "list_list = []\n",
    "perm_list = []\n",
    "for i in range(len(l1)):\n",
    "    list_list.append(l1[i::]+l1[:i:])\n",
    "print(\"this is list of lists\", list_list)\n",
    "for i in list_list:\n",
    "    perm_list.append(i)\n",
    "    for j in range(len(i)):\n",
    "        k = i[j::]+i[:j:]\n",
    "        print(k)\n",
    "        if(k not in perm_list):\n",
    "            perm_list.append(k)\n",
    "print(perm_list)\n",
    "print(list_list)"
   ]
  },
  {
   "cell_type": "code",
   "execution_count": null,
   "id": "1176bb3c",
   "metadata": {},
   "outputs": [],
   "source": [
    "def permutations(iterable, r=None):\n",
    "    pool = tuple(iterable)\n",
    "    n = len(pool)\n",
    "    r = n if r is None else r\n",
    "    for indices in product(range(n), repeat=r):\n",
    "        if len(set(indices)) == r:\n",
    "            yield tuple(pool[i] for i in indices)"
   ]
  },
  {
   "cell_type": "code",
   "execution_count": null,
   "id": "0a32eb47",
   "metadata": {},
   "outputs": [],
   "source": [
    "2,3,4\n",
    "3,4,2\n",
    "2,4,3\n",
    "4,3,2\n",
    "3,2,4\n",
    "4,2,3\n"
   ]
  },
  {
   "cell_type": "code",
   "execution_count": null,
   "id": "7477e85a",
   "metadata": {},
   "outputs": [],
   "source": [
    "l2 = [3,4,5,6]\n",
    "for i in range(len(l2)):\n",
    "    l2"
   ]
  },
  {
   "cell_type": "code",
   "execution_count": 55,
   "id": "c1e3da1c",
   "metadata": {},
   "outputs": [
    {
     "data": {
      "text/plain": [
       "[[2, 3, 4], [3, 4, 2], [4, 2, 3], [3, 4, 2], [4, 2, 3]]"
      ]
     },
     "execution_count": 55,
     "metadata": {},
     "output_type": "execute_result"
    }
   ],
   "source": [
    "perm_list"
   ]
  },
  {
   "cell_type": "code",
   "execution_count": 53,
   "id": "119298e8",
   "metadata": {},
   "outputs": [
    {
     "data": {
      "text/plain": [
       "[[2, 3, 4], [3, 4, 2], [4, 2, 3]]"
      ]
     },
     "execution_count": 53,
     "metadata": {},
     "output_type": "execute_result"
    }
   ],
   "source": [
    "list_list"
   ]
  },
  {
   "cell_type": "code",
   "execution_count": null,
   "id": "1d57ef85",
   "metadata": {},
   "outputs": [],
   "source": []
  },
  {
   "cell_type": "code",
   "execution_count": 69,
   "id": "7c446b5e",
   "metadata": {},
   "outputs": [
    {
     "name": "stdout",
     "output_type": "stream",
     "text": [
      "enter no. of mobiles purchased by customer: 5\n",
      "brand of mobile: samsung\n",
      "total price of the items:  127000\n",
      "{'samsung': 34, 'redmi': 19, 'lenovo': 20}\n"
     ]
    }
   ],
   "source": [
    "price_detail = {\"samsung\": 25400, \"redmi\": 10000, \"lenovo\": 8000}\n",
    "mobile_quantity = {\"samsung\": 39, \"redmi\": 19, \"lenovo\": 20}\n",
    "quantity = int(input(\"enter no. of mobiles purchased by customer: \"))\n",
    "brand = input(\"brand of mobile: \")\n",
    "total_price = quantity * price_detail[brand]\n",
    "print(\"total price of the items: \",total_price)\n",
    "mobile_quantity[brand] = mobile_quantity[brand]-quantity\n",
    "print(mobile_quantity)"
   ]
  },
  {
   "cell_type": "code",
   "execution_count": 64,
   "id": "7ba1c858",
   "metadata": {},
   "outputs": [],
   "source": []
  },
  {
   "cell_type": "code",
   "execution_count": 1,
   "id": "d1b03cd4",
   "metadata": {},
   "outputs": [],
   "source": [
    "v1 = [1,2,3,4,5]\n",
    "v2 = [2,3,4,7,8]"
   ]
  },
  {
   "cell_type": "code",
   "execution_count": 5,
   "id": "91727be5",
   "metadata": {},
   "outputs": [],
   "source": [
    "import itertools\n",
    "klist = list(itertools.permutations(v2))\n",
    "sum_list = []\n",
    "for v3 in klist:\n",
    "    sum=0\n",
    "    for j in range(len(v1)):\n",
    "        sum += (v1[j]*v3[j])\n",
    "    sum_list.append(sum)\n",
    "    "
   ]
  },
  {
   "cell_type": "code",
   "execution_count": null,
   "id": "5dba530f",
   "metadata": {},
   "outputs": [],
   "source": []
  }
 ],
 "metadata": {
  "kernelspec": {
   "display_name": "Python 3",
   "language": "python",
   "name": "python3"
  },
  "language_info": {
   "codemirror_mode": {
    "name": "ipython",
    "version": 3
   },
   "file_extension": ".py",
   "mimetype": "text/x-python",
   "name": "python",
   "nbconvert_exporter": "python",
   "pygments_lexer": "ipython3",
   "version": "3.8.8"
  }
 },
 "nbformat": 4,
 "nbformat_minor": 5
}

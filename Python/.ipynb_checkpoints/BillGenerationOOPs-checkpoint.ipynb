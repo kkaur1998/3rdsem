{
 "cells": [
  {
   "cell_type": "code",
   "execution_count": 25,
   "id": "8b03cc94",
   "metadata": {},
   "outputs": [
    {
     "name": "stdout",
     "output_type": "stream",
     "text": [
      "enter the product you want to buy: pen\n",
      "enter quantity of product20\n"
     ]
    },
    {
     "ename": "AttributeError",
     "evalue": "'Company' object has no attribute 'check_quanity'",
     "output_type": "error",
     "traceback": [
      "\u001b[1;31m---------------------------------------------------------------------------\u001b[0m",
      "\u001b[1;31mAttributeError\u001b[0m                            Traceback (most recent call last)",
      "\u001b[1;32m<ipython-input-25-3a7c7d36a32e>\u001b[0m in \u001b[0;36m<module>\u001b[1;34m\u001b[0m\n\u001b[0;32m     35\u001b[0m \u001b[1;32mif\u001b[0m\u001b[1;33m(\u001b[0m\u001b[0mprodid\u001b[0m \u001b[1;33m!=\u001b[0m \u001b[1;32mFalse\u001b[0m\u001b[1;33m)\u001b[0m\u001b[1;33m:\u001b[0m\u001b[1;33m\u001b[0m\u001b[1;33m\u001b[0m\u001b[0m\n\u001b[0;32m     36\u001b[0m     \u001b[0mquantity\u001b[0m \u001b[1;33m=\u001b[0m \u001b[0mint\u001b[0m\u001b[1;33m(\u001b[0m\u001b[0minput\u001b[0m\u001b[1;33m(\u001b[0m\u001b[1;34m\"enter quantity of product\"\u001b[0m\u001b[1;33m)\u001b[0m\u001b[1;33m)\u001b[0m\u001b[1;33m\u001b[0m\u001b[1;33m\u001b[0m\u001b[0m\n\u001b[1;32m---> 37\u001b[1;33m     \u001b[1;32mif\u001b[0m\u001b[1;33m(\u001b[0m\u001b[0mobj\u001b[0m\u001b[1;33m.\u001b[0m\u001b[0mcheck_quanity\u001b[0m\u001b[1;33m(\u001b[0m\u001b[0mquantity\u001b[0m\u001b[1;33m)\u001b[0m\u001b[1;33m)\u001b[0m\u001b[1;33m:\u001b[0m\u001b[1;33m\u001b[0m\u001b[1;33m\u001b[0m\u001b[0m\n\u001b[0m\u001b[0;32m     38\u001b[0m         \u001b[0mprice\u001b[0m\u001b[1;33m=\u001b[0m \u001b[0mobj\u001b[0m\u001b[1;33m.\u001b[0m\u001b[0mcalc_price\u001b[0m\u001b[1;33m(\u001b[0m\u001b[0mprodid\u001b[0m\u001b[1;33m,\u001b[0m\u001b[0mquantity\u001b[0m\u001b[1;33m)\u001b[0m\u001b[1;33m\u001b[0m\u001b[1;33m\u001b[0m\u001b[0m\n\u001b[0;32m     39\u001b[0m         \u001b[0mprint\u001b[0m\u001b[1;33m(\u001b[0m\u001b[1;34m\"your bill is: \"\u001b[0m\u001b[1;33m,\u001b[0m \u001b[0mprice\u001b[0m\u001b[1;33m)\u001b[0m\u001b[1;33m\u001b[0m\u001b[1;33m\u001b[0m\u001b[0m\n",
      "\u001b[1;31mAttributeError\u001b[0m: 'Company' object has no attribute 'check_quanity'"
     ]
    }
   ],
   "source": [
    "product_list = {\"1111\":\"pencil\",\"1112\":\"pen\",\"1113\":\"copy\",\"1114\":\"binding\",\"1115\":\"eraser\",\"1116\":\"sharpner\",\n",
    "               \"1117\":\"prints\",\"1118\":\"stickers\",\"1119\":\"notebook\",\"1120\":\"file\"}\n",
    "price_list = {\"1111\":10,\"1112\":20,\"1113\":30,\"1114\":40,\"1115\":5,\"1116\":6,\n",
    "               \"1117\":20,\"1118\":25,\"1119\":40,\"1120\":70}\n",
    "quantity_list = {\"1111\":2000,\"1112\":24000,\"1113\":8000,\"1114\":7000,\"1115\":6000,\"1116\":4000,\n",
    "               \"1117\":9000,\"1118\":6000,\"1119\":20000,\"1120\":10000}\n",
    "class Company:\n",
    "    def __init__(self):\n",
    "        self.min_limit= 200\n",
    "        self.max_limit= 5000\n",
    "    def get_prodid(self,product):\n",
    "        global product_list\n",
    "        for i in list(product_list.keys()):\n",
    "            if(product_list[i]==product):\n",
    "                self.key = i\n",
    "                return self.key\n",
    "        else:\n",
    "            return False\n",
    "    def check_quantity(self,quantity):\n",
    "        global quantity_list\n",
    "        if(quantity>=self.min_limit and quantity<=self.max_limit):\n",
    "            return True\n",
    "        else:\n",
    "            return False\n",
    "    def calc_price(self,product,quantity):\n",
    "        global product_list\n",
    "        global quantity_list\n",
    "        self.price = price_list[product]*quantity\n",
    "        quantity_list[product] -= quantity\n",
    "        return self.price\n",
    "    \n",
    "obj = Company()\n",
    "product = input(\"enter the product you want to buy: \")\n",
    "prodid = obj.get_prodid(product)\n",
    "if(prodid != False):\n",
    "    quantity = int(input(\"enter quantity of product\"))\n",
    "    if(obj.check_quantity(quantity)):\n",
    "        price= obj.calc_price(prodid,quantity)\n",
    "        print(\"your bill is: \", price)\n",
    "    else:\n",
    "        print(\"Quantity should be between 200 - 5000\")\n",
    "        \n",
    "    "
   ]
  },
  {
   "cell_type": "code",
   "execution_count": 15,
   "id": "bea2649b",
   "metadata": {},
   "outputs": [
    {
     "ename": "TypeError",
     "evalue": "fromkeys expected at least 1 argument, got 0",
     "output_type": "error",
     "traceback": [
      "\u001b[1;31m---------------------------------------------------------------------------\u001b[0m",
      "\u001b[1;31mTypeError\u001b[0m                                 Traceback (most recent call last)",
      "\u001b[1;32m<ipython-input-15-c4b7030eee0b>\u001b[0m in \u001b[0;36m<module>\u001b[1;34m\u001b[0m\n\u001b[0;32m      1\u001b[0m product_list = {\"1111\":\"pencil\",\"1112\":\"pen\",\"1113\":\"copy\",\"1114\":\"binding\",\"1115\":\"eraser\",\"1116\":\"sharpner\",\n\u001b[0;32m      2\u001b[0m                \"1117\":\"prints\",\"1118\":\"stickers\",\"1119\":\"notebook\",\"1120\":\"file\"}\n\u001b[1;32m----> 3\u001b[1;33m \u001b[0mprint\u001b[0m\u001b[1;33m(\u001b[0m\u001b[0mproduct_list\u001b[0m\u001b[1;33m.\u001b[0m\u001b[0mfromkeys\u001b[0m\u001b[1;33m(\u001b[0m\u001b[1;33m)\u001b[0m\u001b[1;33m)\u001b[0m\u001b[1;33m\u001b[0m\u001b[1;33m\u001b[0m\u001b[0m\n\u001b[0m",
      "\u001b[1;31mTypeError\u001b[0m: fromkeys expected at least 1 argument, got 0"
     ]
    }
   ],
   "source": [
    "product_list = {\"1111\":\"pencil\",\"1112\":\"pen\",\"1113\":\"copy\",\"1114\":\"binding\",\"1115\":\"eraser\",\"1116\":\"sharpner\",\n",
    "               \"1117\":\"prints\",\"1118\":\"stickers\",\"1119\":\"notebook\",\"1120\":\"file\"}\n",
    "print(product_list.fromkeys())"
   ]
  }
 ],
 "metadata": {
  "kernelspec": {
   "display_name": "Python 3",
   "language": "python",
   "name": "python3"
  },
  "language_info": {
   "codemirror_mode": {
    "name": "ipython",
    "version": 3
   },
   "file_extension": ".py",
   "mimetype": "text/x-python",
   "name": "python",
   "nbconvert_exporter": "python",
   "pygments_lexer": "ipython3",
   "version": "3.8.8"
  }
 },
 "nbformat": 4,
 "nbformat_minor": 5
}

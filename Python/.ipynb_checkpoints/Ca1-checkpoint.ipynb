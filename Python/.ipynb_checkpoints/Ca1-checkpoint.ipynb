{
 "cells": [
  {
   "cell_type": "code",
   "execution_count": 9,
   "id": "562ce782",
   "metadata": {},
   "outputs": [],
   "source": [
    "personal_details= {'1234': {\"name\":\"kamal\",\"age\":24}, '2345': {\"name\":\"Bubby\",\"age\":23}, '3456': {\"name\":\"Param\",\"age\":20}, '4567': {\"name\":\"Sandeep\",\"age\":22}}"
   ]
  },
  {
   "cell_type": "code",
   "execution_count": 10,
   "id": "ccc75163",
   "metadata": {},
   "outputs": [],
   "source": [
    "professional_details= {'1234': {\"designation\":\"manager\",\"salary\":90000}, '2345': {\"designation\":\"lead\",\"salary\":80000}, '3456': {\"designation\":\"associate\",\"salary\":24000}, '4567': {\"designation\":\"operator\",\"salary\":30000}}"
   ]
  },
  {
   "cell_type": "code",
   "execution_count": 11,
   "id": "91ac73d4",
   "metadata": {},
   "outputs": [],
   "source": [
    "leave_balance = {'1234': 30, '2345': 22, '3456': 10, '4567': 13}"
   ]
  },
  {
   "cell_type": "code",
   "execution_count": 12,
   "id": "d8a92730",
   "metadata": {},
   "outputs": [
    {
     "name": "stdout",
     "output_type": "stream",
     "text": [
      "enter id of employee2345\n"
     ]
    }
   ],
   "source": [
    "id = input(\"enter id of employee\")\n",
    "salary = professional_details[id]"
   ]
  },
  {
   "cell_type": "code",
   "execution_count": null,
   "id": "6c214956",
   "metadata": {},
   "outputs": [],
   "source": []
  }
 ],
 "metadata": {
  "kernelspec": {
   "display_name": "Python 3",
   "language": "python",
   "name": "python3"
  },
  "language_info": {
   "codemirror_mode": {
    "name": "ipython",
    "version": 3
   },
   "file_extension": ".py",
   "mimetype": "text/x-python",
   "name": "python",
   "nbconvert_exporter": "python",
   "pygments_lexer": "ipython3",
   "version": "3.8.8"
  }
 },
 "nbformat": 4,
 "nbformat_minor": 5
}

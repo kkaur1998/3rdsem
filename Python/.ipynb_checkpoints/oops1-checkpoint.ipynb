{
 "cells": [
  {
   "cell_type": "code",
   "execution_count": 4,
   "id": "14029add",
   "metadata": {},
   "outputs": [
    {
     "data": {
      "text/plain": [
       "'\\ntransaction operation\\n1.) Initial amount- 1000Rs\\n2.) Maintain minimum amount- 1000Rs \\n---select you choice------\\n->Balance\\n->deposit\\n->withdrawl\\n->Exit\\n'"
      ]
     },
     "execution_count": 4,
     "metadata": {},
     "output_type": "execute_result"
    }
   ],
   "source": [
    "\"\"\"\n",
    "transaction operation\n",
    "1.) Initial amount- 1000Rs\n",
    "2.) Maintain minimum amount- 1000Rs \n",
    "---select you choice------\n",
    "->Balance\n",
    "->deposit\n",
    "->withdrawl\n",
    "->Exit\n",
    "\"\"\""
   ]
  },
  {
   "cell_type": "code",
   "execution_count": null,
   "id": "f11e92b7",
   "metadata": {},
   "outputs": [
    {
     "name": "stdout",
     "output_type": "stream",
     "text": [
      "enter your choice: \n",
      " 1. Balance check \n",
      " 2.Deposit \n",
      " 3. Withdrawl \n",
      " 4. Exit2\n",
      "enter amount you want to deposit5666\n",
      "amount deposited successfully- New Balance is:  6666\n"
     ]
    }
   ],
   "source": [
    "balance = 1000\n",
    "class Account:\n",
    "    def __init__(self):\n",
    "        self.minimum_balance = 1000\n",
    "    def check_balance(self):\n",
    "        return balance\n",
    "    def deposit(self, amount):\n",
    "        global balance\n",
    "        balance += amount\n",
    "        return balance\n",
    "    def withdrawl(self, amount):\n",
    "        global balance\n",
    "        if(amount <= (balance - self.minimum_balance)):\n",
    "            balance = balance-amount\n",
    "            return balance\n",
    "        else:\n",
    "            return False\n",
    "\n",
    "            \n",
    "        \n",
    "\n",
    "while(1):\n",
    "    obj = Account()\n",
    "    choice = input(\"enter your choice: \\n 1. Balance check \\n 2.Deposit \\n 3. Withdrawl \\n 4. Exit\")\n",
    "    if(choice.isdigit()):\n",
    "        choice = int(choice)\n",
    "        if(choice==1):\n",
    "            print(\"balance is :\", obj.check_balance())\n",
    "        elif(choice == 2):\n",
    "            amount = int(input(\"enter amount you want to deposit\"))\n",
    "            balance = obj.deposit(amount)\n",
    "            print(\"amount deposited successfully- New Balance is: \", balance)\n",
    "            \n",
    "        elif(choice == 3):\n",
    "            amount = int(input(\"enter amount you want to withdraw\"))\n",
    "            if(obj.withdrawl(amount)==False):\n",
    "                print(\"please maintain minimum balance to withdraw\")\n",
    "            else:\n",
    "                print(\"Transaction Successful New balance is\", balance)\n",
    "        elif(choice==4):\n",
    "            break\n",
    "        else:\n",
    "            print(\"Please enter correct choice from 1,2,3,4\")\n",
    "    else:\n",
    "        print(\"please enter choice again ---- chosse from (1,2,3,4) only\")\n",
    "        \n",
    "    \n",
    "    \n",
    "        \n",
    "        "
   ]
  },
  {
   "cell_type": "code",
   "execution_count": null,
   "id": "2d5af1ce",
   "metadata": {},
   "outputs": [],
   "source": []
  }
 ],
 "metadata": {
  "kernelspec": {
   "display_name": "Python 3",
   "language": "python",
   "name": "python3"
  },
  "language_info": {
   "codemirror_mode": {
    "name": "ipython",
    "version": 3
   },
   "file_extension": ".py",
   "mimetype": "text/x-python",
   "name": "python",
   "nbconvert_exporter": "python",
   "pygments_lexer": "ipython3",
   "version": "3.8.8"
  }
 },
 "nbformat": 4,
 "nbformat_minor": 5
}

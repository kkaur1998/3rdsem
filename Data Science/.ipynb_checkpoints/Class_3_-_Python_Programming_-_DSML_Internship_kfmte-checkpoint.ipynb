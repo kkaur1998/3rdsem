{
 "cells": [
  {
   "cell_type": "code",
   "execution_count": 10,
   "id": "ee71c1fe",
   "metadata": {},
   "outputs": [],
   "source": [
    "def calculator(num1,num2,operation='all'):\n",
    "    if operation=='sum':\n",
    "        print(num1+num2)\n",
    "    elif operation=='sub':\n",
    "        print(num1-num2)\n",
    "    elif operation=='mul':\n",
    "        print(num1*num2)\n",
    "    elif operation=='div':\n",
    "        print(num1/num2)\n",
    "    elif operation=='all':\n",
    "        print(num1+num2)\n",
    "        print(num1-num2)\n",
    "        print(num1*num2)\n",
    "        print(num1/num2)\n",
    "    else:\n",
    "        print('Choose the correct option')"
   ]
  },
  {
   "cell_type": "code",
   "execution_count": 12,
   "id": "d6c3284b",
   "metadata": {},
   "outputs": [
    {
     "name": "stdout",
     "output_type": "stream",
     "text": [
      "13\n",
      "7\n",
      "30\n",
      "3.3333333333333335\n"
     ]
    }
   ],
   "source": [
    "output = calculator(10,3)"
   ]
  },
  {
   "cell_type": "code",
   "execution_count": 14,
   "id": "049afdcb",
   "metadata": {},
   "outputs": [
    {
     "data": {
      "text/plain": [
       "NoneType"
      ]
     },
     "execution_count": 14,
     "metadata": {},
     "output_type": "execute_result"
    }
   ],
   "source": [
    "type(output)"
   ]
  },
  {
   "cell_type": "code",
   "execution_count": 22,
   "id": "72a96930",
   "metadata": {},
   "outputs": [],
   "source": [
    "def calculator(num1,num2,operation='all'):\n",
    "    if operation=='sum':\n",
    "        return(num1+num2)\n",
    "    elif operation=='sub':\n",
    "        return(num1-num2)\n",
    "    elif operation=='mul':\n",
    "        return(num1*num2)\n",
    "    elif operation=='div':\n",
    "        return(num1/num2)\n",
    "    elif operation=='all':\n",
    "        return(num1+num2, num1-num2, num1*num2, num1/num2)\n",
    "    else:\n",
    "        return('Choose the correct option')"
   ]
  },
  {
   "cell_type": "code",
   "execution_count": 24,
   "id": "b37cfcaa",
   "metadata": {},
   "outputs": [
    {
     "data": {
      "text/plain": [
       "(13, 7, 30, 3.3333333333333335)"
      ]
     },
     "execution_count": 24,
     "metadata": {},
     "output_type": "execute_result"
    }
   ],
   "source": [
    "calculator(10,3)"
   ]
  },
  {
   "cell_type": "code",
   "execution_count": 86,
   "id": "6f53c0c4",
   "metadata": {},
   "outputs": [],
   "source": [
    "#num1 = int(input('Enter the number1:'))\n",
    "#num2 = int(input('Enter the number2:'))\n",
    "def calculator(num1,num2,operation='all'):\n",
    "    if operation.lower()=='sum':\n",
    "        return(num1+num2)\n",
    "    elif operation=='sub':\n",
    "        return(num1-num2)\n",
    "    elif operation=='mul':\n",
    "        return(num1*num2)\n",
    "    elif operation=='div':\n",
    "        return(num1/num2)\n",
    "    elif operation=='all':\n",
    "        return{'sum of no1,no2':num1+num2, 'sub of no1,no2':num1-num2, 'mul of no1,no2':num1*num2, 'div of no1,no2':num1/num2}\n",
    "    else:\n",
    "        return('Choose the correct option')"
   ]
  },
  {
   "cell_type": "code",
   "execution_count": 91,
   "id": "4fb6c228",
   "metadata": {},
   "outputs": [
    {
     "data": {
      "text/plain": [
       "13"
      ]
     },
     "execution_count": 91,
     "metadata": {},
     "output_type": "execute_result"
    }
   ],
   "source": [
    "calculator(10,3,'Sum')"
   ]
  },
  {
   "cell_type": "code",
   "execution_count": 88,
   "id": "ad78a5e2",
   "metadata": {},
   "outputs": [
    {
     "data": {
      "text/plain": [
       "{'sum of no1,no2': 13,\n",
       " 'sub of no1,no2': 7,\n",
       " 'mul of no1,no2': 30,\n",
       " 'div of no1,no2': 3.3333333333333335}"
      ]
     },
     "execution_count": 88,
     "metadata": {},
     "output_type": "execute_result"
    }
   ],
   "source": [
    "output"
   ]
  },
  {
   "cell_type": "code",
   "execution_count": 38,
   "id": "d2cc197f",
   "metadata": {},
   "outputs": [],
   "source": [
    "def calc(num1,num2):\n",
    "    print(num1+num2)"
   ]
  },
  {
   "cell_type": "code",
   "execution_count": 40,
   "id": "532b069f",
   "metadata": {},
   "outputs": [
    {
     "ename": "TypeError",
     "evalue": "calc() takes 2 positional arguments but 8 were given",
     "output_type": "error",
     "traceback": [
      "\u001b[1;31m---------------------------------------------------------------------------\u001b[0m",
      "\u001b[1;31mTypeError\u001b[0m                                 Traceback (most recent call last)",
      "\u001b[1;32m~\\AppData\\Local\\Temp/ipykernel_18148/1073410881.py\u001b[0m in \u001b[0;36m<module>\u001b[1;34m\u001b[0m\n\u001b[1;32m----> 1\u001b[1;33m \u001b[0mcalc\u001b[0m\u001b[1;33m(\u001b[0m\u001b[1;36m10\u001b[0m\u001b[1;33m,\u001b[0m\u001b[1;36m2\u001b[0m\u001b[1;33m,\u001b[0m\u001b[1;36m3\u001b[0m\u001b[1;33m,\u001b[0m\u001b[1;36m4\u001b[0m\u001b[1;33m,\u001b[0m\u001b[1;36m5\u001b[0m\u001b[1;33m,\u001b[0m\u001b[1;36m6\u001b[0m\u001b[1;33m,\u001b[0m\u001b[1;36m7\u001b[0m\u001b[1;33m,\u001b[0m\u001b[1;36m8\u001b[0m\u001b[1;33m)\u001b[0m\u001b[1;33m\u001b[0m\u001b[1;33m\u001b[0m\u001b[0m\n\u001b[0m",
      "\u001b[1;31mTypeError\u001b[0m: calc() takes 2 positional arguments but 8 were given"
     ]
    }
   ],
   "source": [
    "calc(10,2,3,4,5,6,7,8)"
   ]
  },
  {
   "cell_type": "code",
   "execution_count": 41,
   "id": "83f76133",
   "metadata": {},
   "outputs": [],
   "source": [
    "#Variable length arguement\n",
    "def calc(*args):\n",
    "    result = 0 \n",
    "    for i in args:\n",
    "        result = result + i\n",
    "    print(result)"
   ]
  },
  {
   "cell_type": "code",
   "execution_count": 42,
   "id": "6fcf36a9",
   "metadata": {},
   "outputs": [
    {
     "name": "stdout",
     "output_type": "stream",
     "text": [
      "45\n"
     ]
    }
   ],
   "source": [
    "calc(10,2,3,4,5,6,7,8)"
   ]
  },
  {
   "cell_type": "code",
   "execution_count": 48,
   "id": "5af75ea8",
   "metadata": {},
   "outputs": [
    {
     "name": "stdout",
     "output_type": "stream",
     "text": [
      "F1: 1000\n",
      "F2: 1000\n"
     ]
    }
   ],
   "source": [
    "#Global and Local variables\n",
    "p = 10 \n",
    "def f1():\n",
    "    global p\n",
    "    p=1000\n",
    "    print('F1:', p)\n",
    "    \n",
    "f1()\n",
    "\n",
    "def f2():\n",
    "    print('F2:', p)\n",
    "\n",
    "f2()"
   ]
  },
  {
   "cell_type": "code",
   "execution_count": 49,
   "id": "9b27d67d",
   "metadata": {},
   "outputs": [
    {
     "data": {
      "text/plain": [
       "1000"
      ]
     },
     "execution_count": 49,
     "metadata": {},
     "output_type": "execute_result"
    }
   ],
   "source": [
    "p"
   ]
  },
  {
   "cell_type": "code",
   "execution_count": 50,
   "id": "fb75511d",
   "metadata": {},
   "outputs": [],
   "source": [
    "#String operation"
   ]
  },
  {
   "cell_type": "code",
   "execution_count": 66,
   "id": "982fe7af",
   "metadata": {},
   "outputs": [
    {
     "name": "stdout",
     "output_type": "stream",
     "text": [
      "Enter the city:   Surat$\n",
      "Your city Surat is present in the list\n"
     ]
    }
   ],
   "source": [
    "city = input('Enter the city: ')\n",
    "cities = ['Gurgaon','Chennai','Bengaluru','Surat']\n",
    "\n",
    "if city.strip().strip('$') in cities:\n",
    "    print('Your city', city.strip().strip('$'), 'is present in the list')\n",
    "else:\n",
    "    print('Your city', city.strip(), 'is not present in the list')"
   ]
  },
  {
   "cell_type": "code",
   "execution_count": 72,
   "id": "5e3d91d2",
   "metadata": {},
   "outputs": [
    {
     "data": {
      "text/plain": [
       "15"
      ]
     },
     "execution_count": 72,
     "metadata": {},
     "output_type": "execute_result"
    }
   ],
   "source": [
    "s = 'rahultiwarirahultiwari'\n",
    "\n",
    "s.find('l',10,22)"
   ]
  },
  {
   "cell_type": "code",
   "execution_count": 76,
   "id": "6fafb1bc",
   "metadata": {},
   "outputs": [
    {
     "name": "stdout",
     "output_type": "stream",
     "text": [
      "What are you looking for: l\n",
      "Found at index:  4\n",
      "Found at index:  6\n",
      "Found at index:  8\n"
     ]
    }
   ],
   "source": [
    "string = 'rahululul'\n",
    "lookingfor = input('What are you looking for: ') \n",
    "flag = False \n",
    "pos = -1\n",
    "n = len(string)\n",
    "while True:\n",
    "    pos = string.find(lookingfor,pos+1,n)\n",
    "    if pos==-1:\n",
    "        break\n",
    "    print('Found at index: ', pos)\n",
    "    flag = True\n",
    "if flag==False:\n",
    "    print('Not Found')"
   ]
  },
  {
   "cell_type": "code",
   "execution_count": 77,
   "id": "ec6276ce",
   "metadata": {},
   "outputs": [
    {
     "data": {
      "text/plain": [
       "'atharvtiwariatharvtiwari'"
      ]
     },
     "execution_count": 77,
     "metadata": {},
     "output_type": "execute_result"
    }
   ],
   "source": [
    "string = 'rahultiwarirahultiwari'\n",
    "string.replace('rahul','atharv')"
   ]
  },
  {
   "cell_type": "code",
   "execution_count": 81,
   "id": "2d3356c9",
   "metadata": {},
   "outputs": [
    {
     "data": {
      "text/plain": [
       "['rahul', 'tiwari', 'atharv']"
      ]
     },
     "execution_count": 81,
     "metadata": {},
     "output_type": "execute_result"
    }
   ],
   "source": [
    "string = 'rahul$tiwari$atharv'\n",
    "string.split('$')"
   ]
  },
  {
   "cell_type": "code",
   "execution_count": 82,
   "id": "27b408cc",
   "metadata": {},
   "outputs": [
    {
     "data": {
      "text/plain": [
       "'rahul$tiwari$atharv'"
      ]
     },
     "execution_count": 82,
     "metadata": {},
     "output_type": "execute_result"
    }
   ],
   "source": [
    "list1 = ['rahul', 'tiwari', 'atharv']\n",
    "'$'.join(list1)"
   ]
  },
  {
   "cell_type": "code",
   "execution_count": 95,
   "id": "59c4ed60",
   "metadata": {},
   "outputs": [
    {
     "name": "stdout",
     "output_type": "stream",
     "text": [
      "rahul tiwari is a data scientist\n",
      "RAHUL TIWARI IS A DATA SCIENTIST\n",
      "rAHUL tIWARI IS A DATA SCIENTIST\n",
      "Rahul Tiwari Is A Data Scientist\n",
      "Rahul tiwari is a data scientist\n"
     ]
    }
   ],
   "source": [
    "s = 'Rahul Tiwari is a data scientist'\n",
    "print(s.lower())\n",
    "print(s.upper())\n",
    "print(s.swapcase())\n",
    "print(s.title())\n",
    "print(s.capitalize())"
   ]
  },
  {
   "cell_type": "code",
   "execution_count": null,
   "id": "b19a6b6c",
   "metadata": {},
   "outputs": [],
   "source": [
    "#Homework 1\n",
    "edureka\n",
    "0123456\n",
    "\n",
    "output1 = euea\n",
    "output2 = drk"
   ]
  },
  {
   "cell_type": "code",
   "execution_count": null,
   "id": "3eaf8d22",
   "metadata": {},
   "outputs": [],
   "source": [
    "#Homework 2 \n",
    "John\n",
    "Jame\n",
    "\n",
    "output = JJoahmne"
   ]
  },
  {
   "cell_type": "code",
   "execution_count": null,
   "id": "bfb52b08",
   "metadata": {},
   "outputs": [],
   "source": [
    "#Homework 3\n",
    "Input - B4A1D3\n",
    "Output - ABD134"
   ]
  },
  {
   "cell_type": "code",
   "execution_count": null,
   "id": "46414048",
   "metadata": {},
   "outputs": [],
   "source": [
    "#Homework 4\n",
    "input - a4b3c2\n",
    "output - aaaabbbcc"
   ]
  },
  {
   "cell_type": "code",
   "execution_count": 96,
   "id": "82a8bc67",
   "metadata": {},
   "outputs": [
    {
     "name": "stdout",
     "output_type": "stream",
     "text": [
      "Hi\n"
     ]
    },
    {
     "ename": "ZeroDivisionError",
     "evalue": "division by zero",
     "output_type": "error",
     "traceback": [
      "\u001b[1;31m---------------------------------------------------------------------------\u001b[0m",
      "\u001b[1;31mZeroDivisionError\u001b[0m                         Traceback (most recent call last)",
      "\u001b[1;32m~\\AppData\\Local\\Temp/ipykernel_18148/3411079973.py\u001b[0m in \u001b[0;36m<module>\u001b[1;34m\u001b[0m\n\u001b[0;32m      1\u001b[0m \u001b[1;31m#Exception handling\u001b[0m\u001b[1;33m\u001b[0m\u001b[1;33m\u001b[0m\u001b[0m\n\u001b[0;32m      2\u001b[0m \u001b[0mprint\u001b[0m\u001b[1;33m(\u001b[0m\u001b[1;34m'Hi'\u001b[0m\u001b[1;33m)\u001b[0m\u001b[1;33m\u001b[0m\u001b[1;33m\u001b[0m\u001b[0m\n\u001b[1;32m----> 3\u001b[1;33m \u001b[0mprint\u001b[0m\u001b[1;33m(\u001b[0m\u001b[1;36m10\u001b[0m\u001b[1;33m/\u001b[0m\u001b[1;36m0\u001b[0m\u001b[1;33m)\u001b[0m\u001b[1;33m\u001b[0m\u001b[1;33m\u001b[0m\u001b[0m\n\u001b[0m\u001b[0;32m      4\u001b[0m \u001b[0mprint\u001b[0m\u001b[1;33m(\u001b[0m\u001b[1;34m'Hello'\u001b[0m\u001b[1;33m)\u001b[0m\u001b[1;33m\u001b[0m\u001b[1;33m\u001b[0m\u001b[0m\n",
      "\u001b[1;31mZeroDivisionError\u001b[0m: division by zero"
     ]
    }
   ],
   "source": [
    "#Exception handling \n",
    "print('Hi')\n",
    "print(10/0)\n",
    "print('Hello')"
   ]
  },
  {
   "cell_type": "code",
   "execution_count": null,
   "id": "373cd5f6",
   "metadata": {},
   "outputs": [],
   "source": [
    "try\n",
    "except\n",
    "else\n",
    "finally"
   ]
  },
  {
   "cell_type": "code",
   "execution_count": 104,
   "id": "1d8ae1b7",
   "metadata": {},
   "outputs": [
    {
     "name": "stdout",
     "output_type": "stream",
     "text": [
      "Enter the number1: 102\n",
      "Enter the number2: 2\n",
      "51.0\n",
      "The code completed\n"
     ]
    }
   ],
   "source": [
    "try: \n",
    "    result = 0 \n",
    "    num1 = int(input('Enter the number1: '))\n",
    "    num2 = int(input('Enter the number2: '))\n",
    "    result = num1/num2\n",
    "except Exception as e:\n",
    "    print(e)\n",
    "    print(type(e))\n",
    "else:\n",
    "    print(result)\n",
    "finally:\n",
    "    print('The code completed')"
   ]
  },
  {
   "cell_type": "code",
   "execution_count": 106,
   "id": "5d9bf1af",
   "metadata": {},
   "outputs": [],
   "source": [
    "#File Handling\n",
    "\n",
    "#edureka2008.txt\n",
    "#modes\n",
    "#1. read (r) - Opens up the existing file, if not there throws error\n",
    "#2. write (w) - IF file there opens up and write if not there creates one, overwrite\n",
    "#3. append (a) - If file there open and add the content, if not there create one. "
   ]
  },
  {
   "cell_type": "code",
   "execution_count": 109,
   "id": "f8e8565d",
   "metadata": {},
   "outputs": [
    {
     "data": {
      "text/plain": [
       "'C:\\\\Users\\\\Rahul\\\\Desktop'"
      ]
     },
     "execution_count": 109,
     "metadata": {},
     "output_type": "execute_result"
    }
   ],
   "source": [
    "import os \n",
    "os.getcwd()"
   ]
  },
  {
   "cell_type": "code",
   "execution_count": 108,
   "id": "8b8ea34a",
   "metadata": {},
   "outputs": [],
   "source": [
    "os.chdir('C:\\\\Users\\\\Rahul\\\\Desktop')"
   ]
  },
  {
   "cell_type": "code",
   "execution_count": 110,
   "id": "7442e821",
   "metadata": {},
   "outputs": [
    {
     "ename": "FileNotFoundError",
     "evalue": "[Errno 2] No such file or directory: 'edureka2008.txt'",
     "output_type": "error",
     "traceback": [
      "\u001b[1;31m---------------------------------------------------------------------------\u001b[0m",
      "\u001b[1;31mFileNotFoundError\u001b[0m                         Traceback (most recent call last)",
      "\u001b[1;32m~\\AppData\\Local\\Temp/ipykernel_18148/443914874.py\u001b[0m in \u001b[0;36m<module>\u001b[1;34m\u001b[0m\n\u001b[1;32m----> 1\u001b[1;33m \u001b[0mf\u001b[0m \u001b[1;33m=\u001b[0m \u001b[0mopen\u001b[0m\u001b[1;33m(\u001b[0m\u001b[1;34m'edureka2008.txt'\u001b[0m\u001b[1;33m,\u001b[0m\u001b[1;34m'r'\u001b[0m\u001b[1;33m)\u001b[0m\u001b[1;33m\u001b[0m\u001b[1;33m\u001b[0m\u001b[0m\n\u001b[0m",
      "\u001b[1;31mFileNotFoundError\u001b[0m: [Errno 2] No such file or directory: 'edureka2008.txt'"
     ]
    }
   ],
   "source": [
    "f = open('edureka2008.txt','r')"
   ]
  },
  {
   "cell_type": "code",
   "execution_count": 111,
   "id": "3abbdb63",
   "metadata": {},
   "outputs": [
    {
     "name": "stdout",
     "output_type": "stream",
     "text": [
      "File name:  edureka2008.txt\n",
      "File name:  w\n",
      "File readable? :  False\n",
      "File writable? :  True\n",
      "File closed? :  False\n",
      "File closed? :  True\n"
     ]
    }
   ],
   "source": [
    "f = open('edureka2008.txt','w')\n",
    "print('File name: ', f.name)\n",
    "print('File name: ', f.mode)\n",
    "print('File readable? : ', f.readable())\n",
    "print('File writable? : ', f.writable())\n",
    "print('File closed? : ', f.closed)\n",
    "f.close()\n",
    "print('File closed? : ', f.closed)"
   ]
  },
  {
   "cell_type": "code",
   "execution_count": 112,
   "id": "52744341",
   "metadata": {},
   "outputs": [],
   "source": [
    "f = open('edureka2008.txt', 'w')\n",
    "f.write('Python looks like a simple programming language\\n')\n",
    "f.write('Python is the future\\n')\n",
    "f.close()"
   ]
  },
  {
   "cell_type": "code",
   "execution_count": 113,
   "id": "ebf14b97",
   "metadata": {},
   "outputs": [],
   "source": [
    "f = open('edureka2008.txt', 'w')\n",
    "f.write('Java looks like a simple programming language\\n')\n",
    "f.write('Java is the future\\n')\n",
    "f.close()"
   ]
  },
  {
   "cell_type": "code",
   "execution_count": 114,
   "id": "4cda8d49",
   "metadata": {},
   "outputs": [],
   "source": [
    "f = open('edureka2008.txt', 'a')\n",
    "f.write('Python looks like a simple programming language\\n')\n",
    "f.write('Python is the future\\n')\n",
    "f.close()"
   ]
  },
  {
   "cell_type": "code",
   "execution_count": 116,
   "id": "c1824331",
   "metadata": {},
   "outputs": [
    {
     "name": "stdout",
     "output_type": "stream",
     "text": [
      "Java looks like a simple programmin\n"
     ]
    }
   ],
   "source": [
    "f = open('edureka2008.txt', 'r')\n",
    "data = f.read(35)\n",
    "print(data)\n",
    "f.close()"
   ]
  },
  {
   "cell_type": "code",
   "execution_count": 117,
   "id": "9ed638c1",
   "metadata": {},
   "outputs": [
    {
     "name": "stdout",
     "output_type": "stream",
     "text": [
      "False\n",
      "True\n"
     ]
    }
   ],
   "source": [
    "with open('edureka2008.txt', 'w') as f: \n",
    "    f.write('This is looking good, hope everything is fine\\n')\n",
    "    f.write('This is amazing\\n')\n",
    "    print(f.closed)\n",
    "print(f.closed)"
   ]
  }
 ],
 "metadata": {
  "kernelspec": {
   "display_name": "Python 3",
   "language": "python",
   "name": "python3"
  },
  "language_info": {
   "codemirror_mode": {
    "name": "ipython",
    "version": 3
   },
   "file_extension": ".py",
   "mimetype": "text/x-python",
   "name": "python",
   "nbconvert_exporter": "python",
   "pygments_lexer": "ipython3",
   "version": "3.8.8"
  }
 },
 "nbformat": 4,
 "nbformat_minor": 5
}

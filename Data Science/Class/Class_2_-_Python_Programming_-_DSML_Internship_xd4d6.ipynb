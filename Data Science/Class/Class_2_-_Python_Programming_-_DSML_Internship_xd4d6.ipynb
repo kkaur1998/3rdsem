{
 "cells": [
  {
   "cell_type": "code",
   "execution_count": 1,
   "id": "8ad07763",
   "metadata": {},
   "outputs": [],
   "source": [
    "#Dictionaries\n",
    "#Operators \n",
    "#Conditional statements"
   ]
  },
  {
   "cell_type": "code",
   "execution_count": 3,
   "id": "d02ccea9",
   "metadata": {},
   "outputs": [],
   "source": [
    "stu_details = {'stu_id':1, 'st_name':'A', 'Region':'S'}"
   ]
  },
  {
   "cell_type": "code",
   "execution_count": 5,
   "id": "cc55e199",
   "metadata": {},
   "outputs": [
    {
     "data": {
      "text/plain": [
       "dict"
      ]
     },
     "execution_count": 5,
     "metadata": {},
     "output_type": "execute_result"
    }
   ],
   "source": [
    "type(stu_details)"
   ]
  },
  {
   "cell_type": "code",
   "execution_count": 6,
   "id": "8ad08487",
   "metadata": {},
   "outputs": [
    {
     "data": {
      "text/plain": [
       "3"
      ]
     },
     "execution_count": 6,
     "metadata": {},
     "output_type": "execute_result"
    }
   ],
   "source": [
    "len(stu_details)"
   ]
  },
  {
   "cell_type": "code",
   "execution_count": 15,
   "id": "c7754dc1",
   "metadata": {},
   "outputs": [],
   "source": [
    "stu_details = {'stu_id':[1,2,3,4,5], 'st_name':['A','B','C','D','E'], 'sregion':['S','W','E','E','S']}"
   ]
  },
  {
   "cell_type": "code",
   "execution_count": 8,
   "id": "bd1c4396",
   "metadata": {},
   "outputs": [
    {
     "data": {
      "text/plain": [
       "{'stu_id': [1, 2, 3, 4, 5],\n",
       " 'st_name': ['A', 'B', 'C', 'D', 'E'],\n",
       " 'sregion': ['S', 'W', 'E', 'E', 'S']}"
      ]
     },
     "execution_count": 8,
     "metadata": {},
     "output_type": "execute_result"
    }
   ],
   "source": [
    "stu_details"
   ]
  },
  {
   "cell_type": "code",
   "execution_count": 9,
   "id": "bd3e0e1a",
   "metadata": {},
   "outputs": [
    {
     "data": {
      "text/plain": [
       "3"
      ]
     },
     "execution_count": 9,
     "metadata": {},
     "output_type": "execute_result"
    }
   ],
   "source": [
    "len(stu_details)"
   ]
  },
  {
   "cell_type": "code",
   "execution_count": 16,
   "id": "095f4982",
   "metadata": {},
   "outputs": [],
   "source": [
    "stu_details['smarks'] = [12,13,21,11,12]"
   ]
  },
  {
   "cell_type": "code",
   "execution_count": 11,
   "id": "c7f88ec8",
   "metadata": {},
   "outputs": [
    {
     "data": {
      "text/plain": [
       "{'stu_id': [1, 2, 3, 4, 5],\n",
       " 'st_name': ['A', 'B', 'C', 'D', 'E'],\n",
       " 'sregion': ['S', 'W', 'E', 'E', 'S'],\n",
       " 'smarks': [12, 13, 21, 11, 12]}"
      ]
     },
     "execution_count": 11,
     "metadata": {},
     "output_type": "execute_result"
    }
   ],
   "source": [
    "stu_details"
   ]
  },
  {
   "cell_type": "code",
   "execution_count": 12,
   "id": "15270cb3",
   "metadata": {},
   "outputs": [
    {
     "data": {
      "text/plain": [
       "['A', 'B', 'C', 'D', 'E']"
      ]
     },
     "execution_count": 12,
     "metadata": {},
     "output_type": "execute_result"
    }
   ],
   "source": [
    "stu_details['st_name']"
   ]
  },
  {
   "cell_type": "code",
   "execution_count": 13,
   "id": "1b185a76",
   "metadata": {},
   "outputs": [],
   "source": [
    "stu_details.clear()"
   ]
  },
  {
   "cell_type": "code",
   "execution_count": 17,
   "id": "8250bb2b",
   "metadata": {},
   "outputs": [
    {
     "data": {
      "text/plain": [
       "{'stu_id': [1, 2, 3, 4, 5],\n",
       " 'st_name': ['A', 'B', 'C', 'D', 'E'],\n",
       " 'sregion': ['S', 'W', 'E', 'E', 'S'],\n",
       " 'smarks': [12, 13, 21, 11, 12]}"
      ]
     },
     "execution_count": 17,
     "metadata": {},
     "output_type": "execute_result"
    }
   ],
   "source": [
    "stu_details"
   ]
  },
  {
   "cell_type": "code",
   "execution_count": 18,
   "id": "4e1ec7a9",
   "metadata": {},
   "outputs": [],
   "source": [
    "a = stu_details.copy()"
   ]
  },
  {
   "cell_type": "code",
   "execution_count": 20,
   "id": "4100ca7d",
   "metadata": {},
   "outputs": [],
   "source": [
    "del a"
   ]
  },
  {
   "cell_type": "code",
   "execution_count": 22,
   "id": "a7411057",
   "metadata": {},
   "outputs": [
    {
     "data": {
      "text/plain": [
       "['A', 'B', 'C', 'D', 'E']"
      ]
     },
     "execution_count": 22,
     "metadata": {},
     "output_type": "execute_result"
    }
   ],
   "source": [
    "stu_details.get('st_name')"
   ]
  },
  {
   "cell_type": "code",
   "execution_count": 23,
   "id": "9a086f24",
   "metadata": {},
   "outputs": [
    {
     "data": {
      "text/plain": [
       "['A', 'B', 'C', 'D', 'E']"
      ]
     },
     "execution_count": 23,
     "metadata": {},
     "output_type": "execute_result"
    }
   ],
   "source": [
    "stu_details['st_name']"
   ]
  },
  {
   "cell_type": "code",
   "execution_count": 24,
   "id": "fa98b848",
   "metadata": {},
   "outputs": [
    {
     "data": {
      "text/plain": [
       "dict_items([('stu_id', [1, 2, 3, 4, 5]), ('st_name', ['A', 'B', 'C', 'D', 'E']), ('sregion', ['S', 'W', 'E', 'E', 'S']), ('smarks', [12, 13, 21, 11, 12])])"
      ]
     },
     "execution_count": 24,
     "metadata": {},
     "output_type": "execute_result"
    }
   ],
   "source": [
    "stu_details.items()"
   ]
  },
  {
   "cell_type": "code",
   "execution_count": 25,
   "id": "68af9ef8",
   "metadata": {},
   "outputs": [
    {
     "data": {
      "text/plain": [
       "dict_keys(['stu_id', 'st_name', 'sregion', 'smarks'])"
      ]
     },
     "execution_count": 25,
     "metadata": {},
     "output_type": "execute_result"
    }
   ],
   "source": [
    "stu_details.keys()"
   ]
  },
  {
   "cell_type": "code",
   "execution_count": 26,
   "id": "2070644e",
   "metadata": {},
   "outputs": [
    {
     "data": {
      "text/plain": [
       "dict_values([[1, 2, 3, 4, 5], ['A', 'B', 'C', 'D', 'E'], ['S', 'W', 'E', 'E', 'S'], [12, 13, 21, 11, 12]])"
      ]
     },
     "execution_count": 26,
     "metadata": {},
     "output_type": "execute_result"
    }
   ],
   "source": [
    "stu_details.values()"
   ]
  },
  {
   "cell_type": "code",
   "execution_count": 28,
   "id": "d135ece2",
   "metadata": {},
   "outputs": [
    {
     "data": {
      "text/plain": [
       "['S', 'W', 'E', 'E', 'S']"
      ]
     },
     "execution_count": 28,
     "metadata": {},
     "output_type": "execute_result"
    }
   ],
   "source": [
    "stu_details.pop('sregion')"
   ]
  },
  {
   "cell_type": "code",
   "execution_count": 29,
   "id": "c850b9df",
   "metadata": {},
   "outputs": [
    {
     "data": {
      "text/plain": [
       "{'stu_id': [1, 2, 3, 4, 5],\n",
       " 'st_name': ['A', 'B', 'C', 'D', 'E'],\n",
       " 'smarks': [12, 13, 21, 11, 12]}"
      ]
     },
     "execution_count": 29,
     "metadata": {},
     "output_type": "execute_result"
    }
   ],
   "source": [
    "stu_details"
   ]
  },
  {
   "cell_type": "code",
   "execution_count": 30,
   "id": "601ab7a0",
   "metadata": {},
   "outputs": [
    {
     "data": {
      "text/plain": [
       "('smarks', [12, 13, 21, 11, 12])"
      ]
     },
     "execution_count": 30,
     "metadata": {},
     "output_type": "execute_result"
    }
   ],
   "source": [
    "stu_details.popitem()"
   ]
  },
  {
   "cell_type": "code",
   "execution_count": 31,
   "id": "500b93da",
   "metadata": {},
   "outputs": [
    {
     "ename": "TypeError",
     "evalue": "dict.popitem() takes no arguments (1 given)",
     "output_type": "error",
     "traceback": [
      "\u001b[1;31m---------------------------------------------------------------------------\u001b[0m",
      "\u001b[1;31mTypeError\u001b[0m                                 Traceback (most recent call last)",
      "\u001b[1;32m~\\AppData\\Local\\Temp/ipykernel_29348/1052911074.py\u001b[0m in \u001b[0;36m<module>\u001b[1;34m\u001b[0m\n\u001b[1;32m----> 1\u001b[1;33m \u001b[0mstu_details\u001b[0m\u001b[1;33m.\u001b[0m\u001b[0mpopitem\u001b[0m\u001b[1;33m(\u001b[0m\u001b[1;34m'stu_id'\u001b[0m\u001b[1;33m)\u001b[0m\u001b[1;33m\u001b[0m\u001b[1;33m\u001b[0m\u001b[0m\n\u001b[0m",
      "\u001b[1;31mTypeError\u001b[0m: dict.popitem() takes no arguments (1 given)"
     ]
    }
   ],
   "source": [
    "stu_details.popitem('stu_id')"
   ]
  },
  {
   "cell_type": "code",
   "execution_count": 32,
   "id": "efa72819",
   "metadata": {},
   "outputs": [],
   "source": [
    "stu_details.setdefault('S_Sub')"
   ]
  },
  {
   "cell_type": "code",
   "execution_count": 34,
   "id": "ba828df7",
   "metadata": {},
   "outputs": [],
   "source": [
    "stu_details['S_Sub'] = ['Py','R','Tab','Py','Py']"
   ]
  },
  {
   "cell_type": "code",
   "execution_count": 35,
   "id": "cd1bcc41",
   "metadata": {},
   "outputs": [
    {
     "data": {
      "text/plain": [
       "{'stu_id': [1, 2, 3, 4, 5],\n",
       " 'st_name': ['A', 'B', 'C', 'D', 'E'],\n",
       " 'S_Sub': ['Py', 'R', 'Tab', 'Py', 'Py']}"
      ]
     },
     "execution_count": 35,
     "metadata": {},
     "output_type": "execute_result"
    }
   ],
   "source": [
    "stu_details"
   ]
  },
  {
   "cell_type": "code",
   "execution_count": 36,
   "id": "10a5b512",
   "metadata": {},
   "outputs": [],
   "source": [
    "dict1 = {1:2,3:4,5:6}\n",
    "dict2 = {1:10, 7:8,11:12}"
   ]
  },
  {
   "cell_type": "code",
   "execution_count": 37,
   "id": "0701f1eb",
   "metadata": {},
   "outputs": [],
   "source": [
    "dict1.update(dict2)"
   ]
  },
  {
   "cell_type": "code",
   "execution_count": 38,
   "id": "51a1782b",
   "metadata": {},
   "outputs": [
    {
     "data": {
      "text/plain": [
       "{1: 10, 3: 4, 5: 6, 7: 8, 11: 12}"
      ]
     },
     "execution_count": 38,
     "metadata": {},
     "output_type": "execute_result"
    }
   ],
   "source": [
    "dict1"
   ]
  },
  {
   "cell_type": "code",
   "execution_count": 39,
   "id": "fd8aecc5",
   "metadata": {},
   "outputs": [
    {
     "data": {
      "text/plain": [
       "{'stu_id': [1, 2, 3, 4, 5],\n",
       " 'st_name': ['A', 'B', 'C', 'D', 'E'],\n",
       " 'S_Sub': ['Py', 'R', 'Tab', 'Py', 'Py']}"
      ]
     },
     "execution_count": 39,
     "metadata": {},
     "output_type": "execute_result"
    }
   ],
   "source": [
    "stu_details"
   ]
  },
  {
   "cell_type": "code",
   "execution_count": 40,
   "id": "b20113d2",
   "metadata": {},
   "outputs": [
    {
     "data": {
      "text/html": [
       "<div>\n",
       "<style scoped>\n",
       "    .dataframe tbody tr th:only-of-type {\n",
       "        vertical-align: middle;\n",
       "    }\n",
       "\n",
       "    .dataframe tbody tr th {\n",
       "        vertical-align: top;\n",
       "    }\n",
       "\n",
       "    .dataframe thead th {\n",
       "        text-align: right;\n",
       "    }\n",
       "</style>\n",
       "<table border=\"1\" class=\"dataframe\">\n",
       "  <thead>\n",
       "    <tr style=\"text-align: right;\">\n",
       "      <th></th>\n",
       "      <th>stu_id</th>\n",
       "      <th>st_name</th>\n",
       "      <th>S_Sub</th>\n",
       "    </tr>\n",
       "  </thead>\n",
       "  <tbody>\n",
       "    <tr>\n",
       "      <th>0</th>\n",
       "      <td>1</td>\n",
       "      <td>A</td>\n",
       "      <td>Py</td>\n",
       "    </tr>\n",
       "    <tr>\n",
       "      <th>1</th>\n",
       "      <td>2</td>\n",
       "      <td>B</td>\n",
       "      <td>R</td>\n",
       "    </tr>\n",
       "    <tr>\n",
       "      <th>2</th>\n",
       "      <td>3</td>\n",
       "      <td>C</td>\n",
       "      <td>Tab</td>\n",
       "    </tr>\n",
       "    <tr>\n",
       "      <th>3</th>\n",
       "      <td>4</td>\n",
       "      <td>D</td>\n",
       "      <td>Py</td>\n",
       "    </tr>\n",
       "    <tr>\n",
       "      <th>4</th>\n",
       "      <td>5</td>\n",
       "      <td>E</td>\n",
       "      <td>Py</td>\n",
       "    </tr>\n",
       "  </tbody>\n",
       "</table>\n",
       "</div>"
      ],
      "text/plain": [
       "   stu_id st_name S_Sub\n",
       "0       1       A    Py\n",
       "1       2       B     R\n",
       "2       3       C   Tab\n",
       "3       4       D    Py\n",
       "4       5       E    Py"
      ]
     },
     "execution_count": 40,
     "metadata": {},
     "output_type": "execute_result"
    }
   ],
   "source": [
    "import pandas as pd\n",
    "pd.DataFrame(stu_details)"
   ]
  },
  {
   "cell_type": "code",
   "execution_count": 41,
   "id": "7be390da",
   "metadata": {},
   "outputs": [],
   "source": [
    "#Operators in Python \n",
    "    #Arithmatic \n",
    "    #Relational or Comparison \n",
    "    #Equality\n",
    "    #Assignment\n",
    "    #Ternary\n",
    "    #Special"
   ]
  },
  {
   "cell_type": "code",
   "execution_count": 42,
   "id": "9969207f",
   "metadata": {},
   "outputs": [],
   "source": [
    "#Arithmatic \n",
    "    #+ - Addition \n",
    "    #- - Subtraction \n",
    "    #* - Multiplication \n",
    "    #/ - Division \n",
    "    #% - Modulo\n",
    "    #// - Floor Division\n",
    "    #** - Power"
   ]
  },
  {
   "cell_type": "code",
   "execution_count": 47,
   "id": "f58e97d8",
   "metadata": {},
   "outputs": [
    {
     "name": "stdout",
     "output_type": "stream",
     "text": [
      "a+b: 13\n",
      "a-b: 7\n",
      "a*b: 30\n",
      "a/b: 3.3333333333333335\n",
      "a%b: 1\n",
      "a//b: 3\n",
      "a**b: 1000\n"
     ]
    }
   ],
   "source": [
    "a = 10\n",
    "b = 3 \n",
    "print('a+b:', a+b)\n",
    "print('a-b:', a-b)\n",
    "print('a*b:', a*b)\n",
    "print('a/b:', a/b)\n",
    "print('a%b:', a%b)\n",
    "print('a//b:', a//b)\n",
    "print('a**b:', a**b)"
   ]
  },
  {
   "cell_type": "code",
   "execution_count": 52,
   "id": "8eb97327",
   "metadata": {},
   "outputs": [
    {
     "name": "stdout",
     "output_type": "stream",
     "text": [
      "a>b: False\n",
      "a>=b: False\n",
      "a<b: True\n",
      "a<=b: True\n"
     ]
    }
   ],
   "source": [
    "a = 10 \n",
    "b = 20 \n",
    "print('a>b:',a>b)\n",
    "print('a>=b:',a>=b)\n",
    "print('a<b:',a<b)\n",
    "print('a<=b:',a<=b)"
   ]
  },
  {
   "cell_type": "code",
   "execution_count": 59,
   "id": "98513387",
   "metadata": {},
   "outputs": [
    {
     "name": "stdout",
     "output_type": "stream",
     "text": [
      "a==b: False\n",
      "a!=b: True\n"
     ]
    }
   ],
   "source": [
    "#Equality \n",
    "a = 10 \n",
    "b = 20 \n",
    "print('a==b:', a==b)\n",
    "print('a!=b:', a!=b)"
   ]
  },
  {
   "cell_type": "code",
   "execution_count": 54,
   "id": "393c7ff7",
   "metadata": {},
   "outputs": [
    {
     "data": {
      "text/plain": [
       "20"
      ]
     },
     "execution_count": 54,
     "metadata": {},
     "output_type": "execute_result"
    }
   ],
   "source": [
    "a"
   ]
  },
  {
   "cell_type": "code",
   "execution_count": 62,
   "id": "3f86a4b8",
   "metadata": {},
   "outputs": [
    {
     "data": {
      "text/plain": [
       "True"
      ]
     },
     "execution_count": 62,
     "metadata": {},
     "output_type": "execute_result"
    }
   ],
   "source": [
    "10 == int('10')"
   ]
  },
  {
   "cell_type": "code",
   "execution_count": 63,
   "id": "1d6f6a3c",
   "metadata": {},
   "outputs": [
    {
     "data": {
      "text/plain": [
       "40"
      ]
     },
     "execution_count": 63,
     "metadata": {},
     "output_type": "execute_result"
    }
   ],
   "source": [
    "x = 30 if 10>20 else 40\n",
    "x"
   ]
  },
  {
   "cell_type": "code",
   "execution_count": 64,
   "id": "8b533a09",
   "metadata": {},
   "outputs": [
    {
     "data": {
      "text/plain": [
       "5"
      ]
     },
     "execution_count": 64,
     "metadata": {},
     "output_type": "execute_result"
    }
   ],
   "source": [
    "a = 7\n",
    "b = 4\n",
    "c = 5\n",
    "x = a if a>b>c else b if b>c else c\n",
    "x"
   ]
  },
  {
   "cell_type": "code",
   "execution_count": 67,
   "id": "b200177c",
   "metadata": {},
   "outputs": [
    {
     "data": {
      "text/plain": [
       "-20"
      ]
     },
     "execution_count": 67,
     "metadata": {},
     "output_type": "execute_result"
    }
   ],
   "source": [
    "#Assignment operator\n",
    "#+=\n",
    "#-=\n",
    "#*=\n",
    "#/=\n",
    "x = 10 \n",
    "x += 20\n",
    "x-=50\n",
    "x"
   ]
  },
  {
   "cell_type": "code",
   "execution_count": 68,
   "id": "3a7ad5e3",
   "metadata": {},
   "outputs": [],
   "source": [
    "#Special Operators\n",
    "    #Identity Operator\n",
    "        #is \n",
    "        #is not\n",
    "    #Membership Operator\n",
    "        #in \n",
    "        #not in\n",
    "ages = [12,21,11,21]\n",
    "ages1 = ages"
   ]
  },
  {
   "cell_type": "code",
   "execution_count": 69,
   "id": "2f2cebfd",
   "metadata": {},
   "outputs": [
    {
     "name": "stdout",
     "output_type": "stream",
     "text": [
      "2797831733952\n",
      "2797831733952\n"
     ]
    }
   ],
   "source": [
    "print(id(ages))\n",
    "print(id(ages1))"
   ]
  },
  {
   "cell_type": "code",
   "execution_count": 70,
   "id": "b4c4f58c",
   "metadata": {},
   "outputs": [
    {
     "data": {
      "text/plain": [
       "True"
      ]
     },
     "execution_count": 70,
     "metadata": {},
     "output_type": "execute_result"
    }
   ],
   "source": [
    "ages is ages1"
   ]
  },
  {
   "cell_type": "code",
   "execution_count": 71,
   "id": "5716449b",
   "metadata": {},
   "outputs": [],
   "source": [
    "ages2 = ages.copy()"
   ]
  },
  {
   "cell_type": "code",
   "execution_count": 72,
   "id": "dabdee4e",
   "metadata": {},
   "outputs": [
    {
     "data": {
      "text/plain": [
       "2797831733376"
      ]
     },
     "execution_count": 72,
     "metadata": {},
     "output_type": "execute_result"
    }
   ],
   "source": [
    "id(ages2)"
   ]
  },
  {
   "cell_type": "code",
   "execution_count": 74,
   "id": "7fbe0f66",
   "metadata": {},
   "outputs": [
    {
     "data": {
      "text/plain": [
       "True"
      ]
     },
     "execution_count": 74,
     "metadata": {},
     "output_type": "execute_result"
    }
   ],
   "source": [
    "ages is not ages2"
   ]
  },
  {
   "cell_type": "code",
   "execution_count": 76,
   "id": "f85496ca",
   "metadata": {},
   "outputs": [
    {
     "data": {
      "text/plain": [
       "True"
      ]
     },
     "execution_count": 76,
     "metadata": {},
     "output_type": "execute_result"
    }
   ],
   "source": [
    "12 in ages"
   ]
  },
  {
   "cell_type": "code",
   "execution_count": 79,
   "id": "2e1df76f",
   "metadata": {},
   "outputs": [
    {
     "data": {
      "text/plain": [
       "True"
      ]
     },
     "execution_count": 79,
     "metadata": {},
     "output_type": "execute_result"
    }
   ],
   "source": [
    "22 not in ages"
   ]
  },
  {
   "cell_type": "code",
   "execution_count": 80,
   "id": "cc8de824",
   "metadata": {},
   "outputs": [],
   "source": [
    "#Flow Control"
   ]
  },
  {
   "cell_type": "code",
   "execution_count": 98,
   "id": "e4ed0540",
   "metadata": {},
   "outputs": [
    {
     "name": "stdout",
     "output_type": "stream",
     "text": [
      "Enter the marks: 20\n",
      "You failed the exam\n"
     ]
    }
   ],
   "source": [
    "marks = int(input('Enter the marks: '))\n",
    "if marks<=35:\n",
    "    print('You failed the exam')\n",
    "else:\n",
    "    print('You passed the exam')\n",
    "    "
   ]
  },
  {
   "cell_type": "code",
   "execution_count": 94,
   "id": "1e403366",
   "metadata": {},
   "outputs": [
    {
     "name": "stdout",
     "output_type": "stream",
     "text": [
      "Enter the marks: 10.5\n"
     ]
    }
   ],
   "source": [
    "marks = input('Enter the marks: ')"
   ]
  },
  {
   "cell_type": "code",
   "execution_count": 95,
   "id": "164ed932",
   "metadata": {},
   "outputs": [
    {
     "data": {
      "text/plain": [
       "str"
      ]
     },
     "execution_count": 95,
     "metadata": {},
     "output_type": "execute_result"
    }
   ],
   "source": [
    "type(marks)"
   ]
  },
  {
   "cell_type": "code",
   "execution_count": 96,
   "id": "9c50ce11",
   "metadata": {},
   "outputs": [
    {
     "data": {
      "text/plain": [
       "'10.5'"
      ]
     },
     "execution_count": 96,
     "metadata": {},
     "output_type": "execute_result"
    }
   ],
   "source": [
    "marks"
   ]
  },
  {
   "cell_type": "code",
   "execution_count": 106,
   "id": "0f221f85",
   "metadata": {},
   "outputs": [
    {
     "name": "stdout",
     "output_type": "stream",
     "text": [
      "Enter the marks: 32\n",
      "You are failing the exam\n"
     ]
    }
   ],
   "source": [
    "marks = int(input('Enter the marks: '))\n",
    "if marks<35:\n",
    "    print('You are failing the exam')\n",
    "elif marks>=35 and marks<=50:\n",
    "    print('You got avg marks')\n",
    "else:\n",
    "    print('You got excellent marks')"
   ]
  },
  {
   "cell_type": "code",
   "execution_count": 108,
   "id": "3487cbae",
   "metadata": {},
   "outputs": [
    {
     "name": "stdout",
     "output_type": "stream",
     "text": [
      "Enter the number: 5\n",
      "The number is an odd number\n"
     ]
    }
   ],
   "source": [
    "number = int(input('Enter the number: '))\n",
    "if number%2==0:\n",
    "    print('The number is an even number')\n",
    "else:\n",
    "    print('The number is an odd number')"
   ]
  },
  {
   "cell_type": "code",
   "execution_count": 111,
   "id": "65414893",
   "metadata": {},
   "outputs": [
    {
     "name": "stdout",
     "output_type": "stream",
     "text": [
      "323.3\n",
      "232.3\n",
      "123.10000000000001\n",
      "213.20000000000002\n"
     ]
    }
   ],
   "source": [
    "#For Loop\n",
    "\n",
    "sales = [3233,2323,1231,2132]\n",
    "for i in sales: \n",
    "    print(i*0.1)"
   ]
  },
  {
   "cell_type": "code",
   "execution_count": 113,
   "id": "b60b47d7",
   "metadata": {},
   "outputs": [
    {
     "name": "stdout",
     "output_type": "stream",
     "text": [
      "A\n",
      "B\n",
      "C\n",
      "D\n",
      "E\n"
     ]
    }
   ],
   "source": [
    "names = ['A','B','C','D','E']\n",
    "for i in names: \n",
    "    print(i)"
   ]
  },
  {
   "cell_type": "code",
   "execution_count": 114,
   "id": "0b1318d5",
   "metadata": {},
   "outputs": [],
   "source": [
    "sales = [4322,1322,3322,1322]\n",
    "profit = [432,123,322,233]"
   ]
  },
  {
   "cell_type": "code",
   "execution_count": 115,
   "id": "4576099a",
   "metadata": {},
   "outputs": [
    {
     "name": "stdout",
     "output_type": "stream",
     "text": [
      "0.0999537251272559\n",
      "0.09304084720121028\n",
      "0.09692956050571945\n",
      "0.1762481089258699\n"
     ]
    }
   ],
   "source": [
    "for i in [0,1,2,3]:\n",
    "    print(profit[i]/sales[i])"
   ]
  },
  {
   "cell_type": "code",
   "execution_count": 116,
   "id": "424dd457",
   "metadata": {},
   "outputs": [
    {
     "data": {
      "text/plain": [
       "[0, 1, 2, 3]"
      ]
     },
     "execution_count": 116,
     "metadata": {},
     "output_type": "execute_result"
    }
   ],
   "source": [
    "list(range(0,4))"
   ]
  },
  {
   "cell_type": "code",
   "execution_count": 117,
   "id": "9f880786",
   "metadata": {},
   "outputs": [
    {
     "name": "stdout",
     "output_type": "stream",
     "text": [
      "0.0999537251272559\n",
      "0.09304084720121028\n",
      "0.09692956050571945\n",
      "0.1762481089258699\n"
     ]
    }
   ],
   "source": [
    "for i in range(0,4):\n",
    "    print(profit[i]/sales[i])"
   ]
  },
  {
   "cell_type": "code",
   "execution_count": 119,
   "id": "5d6bdad0",
   "metadata": {},
   "outputs": [
    {
     "name": "stdout",
     "output_type": "stream",
     "text": [
      "9.99537251272559\n",
      "9.304084720121027\n",
      "9.692956050571945\n",
      "17.62481089258699\n"
     ]
    }
   ],
   "source": [
    "for i in range(0,len(sales)):\n",
    "    print((profit[i]/sales[i])*100)"
   ]
  },
  {
   "cell_type": "code",
   "execution_count": 121,
   "id": "a0856867",
   "metadata": {},
   "outputs": [
    {
     "name": "stdout",
     "output_type": "stream",
     "text": [
      "The total coupouns left are:  5\n",
      "The total coupouns left are:  4\n",
      "The total coupouns left are:  3\n",
      "The total coupouns left are:  2\n",
      "The total coupouns left are:  1\n",
      "The total coupouns left are:  0\n"
     ]
    }
   ],
   "source": [
    "coupouns = 5\n",
    "utilized = 0 \n",
    "\n",
    "while utilized<=coupouns:\n",
    "    print('The total coupouns left are: ', coupouns-utilized)\n",
    "    utilized=utilized+1"
   ]
  },
  {
   "cell_type": "code",
   "execution_count": 125,
   "id": "106caa17",
   "metadata": {},
   "outputs": [
    {
     "name": "stdout",
     "output_type": "stream",
     "text": [
      "The total coupouns left are:  5\n",
      "The total coupouns left are:  4\n",
      "The total coupouns left are:  3\n",
      "The total coupouns left are:  2\n",
      "The total coupouns left are:  1\n",
      "No coupouns left\n"
     ]
    }
   ],
   "source": [
    "coupouns = 5\n",
    "utilized = 0\n",
    "\n",
    "while utilized<coupouns:\n",
    "    print('The total coupouns left are: ', coupouns-utilized)\n",
    "    utilized=utilized+1\n",
    "print('No coupouns left')"
   ]
  },
  {
   "cell_type": "code",
   "execution_count": 132,
   "id": "74a993aa",
   "metadata": {},
   "outputs": [
    {
     "name": "stdout",
     "output_type": "stream",
     "text": [
      "Enter the number to calculate the factorial: -5\n",
      "There is no factorial of the negative number\n"
     ]
    }
   ],
   "source": [
    "#Factorial of a number\n",
    "number = int(input('Enter the number to calculate the factorial: '))\n",
    "if number<0:\n",
    "    print('There is no factorial of the negative number')\n",
    "else: \n",
    "    result = 1 \n",
    "    while number>=1: \n",
    "        result = result*number\n",
    "        number = number-1 \n",
    "    print(result)"
   ]
  },
  {
   "cell_type": "code",
   "execution_count": 139,
   "id": "ff134866",
   "metadata": {},
   "outputs": [],
   "source": [
    "#Functions\n",
    "def celtofer(c):\n",
    "    f = (c*9/5)+32\n",
    "    print(f)"
   ]
  },
  {
   "cell_type": "code",
   "execution_count": 141,
   "id": "5e4c1a05",
   "metadata": {},
   "outputs": [
    {
     "name": "stdout",
     "output_type": "stream",
     "text": [
      "50.0\n"
     ]
    }
   ],
   "source": [
    "celtofer(10)"
   ]
  },
  {
   "cell_type": "code",
   "execution_count": 138,
   "id": "a677cc33",
   "metadata": {},
   "outputs": [
    {
     "data": {
      "text/plain": [
       "5"
      ]
     },
     "execution_count": 138,
     "metadata": {},
     "output_type": "execute_result"
    }
   ],
   "source": [
    "c"
   ]
  },
  {
   "cell_type": "code",
   "execution_count": 142,
   "id": "bbb1480f",
   "metadata": {},
   "outputs": [],
   "source": [
    "def calc(a,b):\n",
    "    print(a+b)"
   ]
  },
  {
   "cell_type": "code",
   "execution_count": 144,
   "id": "69caba87",
   "metadata": {},
   "outputs": [
    {
     "name": "stdout",
     "output_type": "stream",
     "text": [
      "30\n"
     ]
    }
   ],
   "source": [
    "calc(10,20)"
   ]
  },
  {
   "cell_type": "code",
   "execution_count": 145,
   "id": "ff6c5879",
   "metadata": {},
   "outputs": [],
   "source": [
    "def factorial(number):\n",
    "    if number<0:\n",
    "        print('There is no factorial of the negative number')\n",
    "    else: \n",
    "        result = 1 \n",
    "        while number>=1: \n",
    "            result = result*number\n",
    "            number = number-1 \n",
    "        print(result)"
   ]
  },
  {
   "cell_type": "code",
   "execution_count": 148,
   "id": "5f6b1c34",
   "metadata": {},
   "outputs": [
    {
     "name": "stdout",
     "output_type": "stream",
     "text": [
      "1\n"
     ]
    }
   ],
   "source": [
    "factorial(0)"
   ]
  },
  {
   "cell_type": "code",
   "execution_count": 150,
   "id": "99205d28",
   "metadata": {},
   "outputs": [],
   "source": [
    "list1 = [1,2,3,4,5,6,7,8,9,10,0,-1,-2,-3,-4,-5,-6,-7,-8,-9,-10]"
   ]
  },
  {
   "cell_type": "code",
   "execution_count": 151,
   "id": "00dbe3f7",
   "metadata": {},
   "outputs": [
    {
     "name": "stdout",
     "output_type": "stream",
     "text": [
      "1\n",
      "2\n",
      "6\n",
      "24\n",
      "120\n",
      "720\n",
      "5040\n",
      "40320\n",
      "362880\n",
      "3628800\n",
      "1\n",
      "There is no factorial of the negative number\n",
      "There is no factorial of the negative number\n",
      "There is no factorial of the negative number\n",
      "There is no factorial of the negative number\n",
      "There is no factorial of the negative number\n",
      "There is no factorial of the negative number\n",
      "There is no factorial of the negative number\n",
      "There is no factorial of the negative number\n",
      "There is no factorial of the negative number\n",
      "There is no factorial of the negative number\n"
     ]
    }
   ],
   "source": [
    "for i in list1:\n",
    "    factorial(i)"
   ]
  }
 ],
 "metadata": {
  "kernelspec": {
   "display_name": "Python 3 (ipykernel)",
   "language": "python",
   "name": "python3"
  },
  "language_info": {
   "codemirror_mode": {
    "name": "ipython",
    "version": 3
   },
   "file_extension": ".py",
   "mimetype": "text/x-python",
   "name": "python",
   "nbconvert_exporter": "python",
   "pygments_lexer": "ipython3",
   "version": "3.9.7"
  }
 },
 "nbformat": 4,
 "nbformat_minor": 5
}

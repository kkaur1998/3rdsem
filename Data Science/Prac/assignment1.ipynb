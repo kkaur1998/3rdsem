{
 "cells": [
  {
   "cell_type": "code",
   "execution_count": null,
   "id": "c50c0df1",
   "metadata": {},
   "outputs": [],
   "source": []
  },
  {
   "cell_type": "code",
   "execution_count": null,
   "id": "80872537",
   "metadata": {},
   "outputs": [],
   "source": [
    "\"\"\"#Problem Statement1: Write a Python program to multiply a Mmatrix by N matrix and \n",
    "create a real matrix product.Example: Input:Enter value M: 5Enter value N: 3Enter value A: 2Output:\n",
    "                        First array:[[0.92825664 0.62790011 0.80130199]\n",
    "                                     [0.64283876 0.16558409 0.54573802]\n",
    "                                     [0.04319311 0.80229079 0.72512472]\n",
    "                                     [0.8005622  0.98844625 0.6982794 ]\n",
    "                                     [0.46600134 0.51451131 0.6415925 ]]\n",
    "                        Second array:[[0.31898348 0.49050318]\n",
    "                                      [0.53845583 0.48259499]\n",
    "                                      [0.89102055 0.35539951]]\n",
    "                        Dot product of two arrays:[[1.34817154 1.04311661][0.78047845 0.58917954]\n",
    "                                                   [1.09187707 0.66607684][1.40978205 1.11786566]\n",
    "                                                   [0.99736045 0.70489738]]\"\"\""
   ]
  },
  {
   "cell_type": "code",
   "execution_count": null,
   "id": "d89355e7",
   "metadata": {},
   "outputs": [],
   "source": []
  }
 ],
 "metadata": {
  "kernelspec": {
   "display_name": "Python 3",
   "language": "python",
   "name": "python3"
  },
  "language_info": {
   "codemirror_mode": {
    "name": "ipython",
    "version": 3
   },
   "file_extension": ".py",
   "mimetype": "text/x-python",
   "name": "python",
   "nbconvert_exporter": "python",
   "pygments_lexer": "ipython3",
   "version": "3.8.8"
  }
 },
 "nbformat": 4,
 "nbformat_minor": 5
}
